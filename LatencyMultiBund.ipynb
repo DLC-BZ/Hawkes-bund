{
 "cells": [
  {
   "cell_type": "markdown",
   "metadata": {},
   "source": [
    "# Latency and Tick"
   ]
  },
  {
   "cell_type": "markdown",
   "metadata": {},
   "source": [
    "## Python Imports"
   ]
  },
  {
   "cell_type": "code",
   "execution_count": 1,
   "metadata": {
    "title": "Python imports"
   },
   "outputs": [],
   "source": [
    "import numpy as np\n",
    "# import matplotlib\n",
    "# import matplotlib.pyplot as plt"
   ]
  },
  {
   "cell_type": "code",
   "execution_count": 2,
   "metadata": {
    "title": "Python imports"
   },
   "outputs": [],
   "source": [
    "from scipy.optimize import minimize"
   ]
  },
  {
   "cell_type": "code",
   "execution_count": 3,
   "metadata": {
    "title": "Python imports"
   },
   "outputs": [],
   "source": [
    "from functools import partial"
   ]
  },
  {
   "cell_type": "markdown",
   "metadata": {},
   "source": [
    "## Tick Imports"
   ]
  },
  {
   "cell_type": "code",
   "execution_count": 4,
   "metadata": {
    "title": "Tick Imports"
   },
   "outputs": [],
   "source": [
    "from tick.hawkes import SimuHawkes, SimuHawkesMulti\n",
    "from tick.base import TimeFunction\n",
    "from tick.hawkes import HawkesKernelTimeFunc, HawkesKernelExp"
   ]
  },
  {
   "cell_type": "code",
   "execution_count": 5,
   "metadata": {},
   "outputs": [],
   "source": [
    "import hawklat as hl"
   ]
  },
  {
   "cell_type": "markdown",
   "metadata": {},
   "source": [
    "## Estimation of slowly decreasing Hawkes kernels: application to high-frequency order book dynamics"
   ]
  },
  {
   "cell_type": "code",
   "execution_count": 6,
   "metadata": {},
   "outputs": [],
   "source": [
    "from tick.dataset import fetch_hawkes_bund_data"
   ]
  },
  {
   "cell_type": "code",
   "execution_count": 7,
   "metadata": {},
   "outputs": [
    {
     "name": "stderr",
     "output_type": "stream",
     "text": [
      "/Users/marcoscscarreira/Anaconda/anaconda3/envs/mcsc/lib/python3.7/site-packages/tick/dataset/download_helper.py:216: UserWarning: TICK_DATASETS environment variable was not set. Saving dataset to the default location ~/tick_datasets\n",
      "  .format(_TICK_HOME_ENV, _TICK_DEFAULT_HOME))\n"
     ]
    }
   ],
   "source": [
    "timestamps_list = fetch_hawkes_bund_data()"
   ]
  },
  {
   "cell_type": "code",
   "execution_count": 8,
   "metadata": {},
   "outputs": [
    {
     "data": {
      "text/plain": [
       "[20, 4, 5295]"
      ]
     },
     "execution_count": 8,
     "metadata": {},
     "output_type": "execute_result"
    }
   ],
   "source": [
    "[len(timestamps_list), len(timestamps_list[0]), len(timestamps_list[0][0])]"
   ]
  },
  {
   "cell_type": "code",
   "execution_count": 9,
   "metadata": {},
   "outputs": [],
   "source": [
    "bunds_M = 4"
   ]
  },
  {
   "cell_type": "code",
   "execution_count": 21,
   "metadata": {},
   "outputs": [],
   "source": [
    "bund_bounds = [(1e-4, 1e+2)] * bunds_M + [(1e-2, 1e+6)] * (bunds_M ** 2) + [(1e-2, 1e+6)] * (bunds_M ** 2)"
   ]
  },
  {
   "cell_type": "code",
   "execution_count": 22,
   "metadata": {},
   "outputs": [],
   "source": [
    "bund_bounds_de = [(1e-4, 1e+2)] * bunds_M + [(1e-2, 1e+6)] * (bunds_M ** 2) + [(1e-2, 1e+6)] * (bunds_M ** 2)"
   ]
  },
  {
   "cell_type": "code",
   "execution_count": 23,
   "metadata": {},
   "outputs": [],
   "source": [
    "bund_x0 = np.array([1e-1] * bunds_M + [1e-2] * (bunds_M ** 2) + [1e-1] * (bunds_M ** 2))"
   ]
  },
  {
   "cell_type": "code",
   "execution_count": 13,
   "metadata": {},
   "outputs": [],
   "source": [
    "lat_bund = 250e-6"
   ]
  },
  {
   "cell_type": "code",
   "execution_count": 14,
   "metadata": {},
   "outputs": [],
   "source": [
    "def show_results(result):\n",
    "    λ0s = np.array([result[j][0] for j in range(bunds_M)])\n",
    "    αs = np.array([result[j][1:bunds_M + 1] for j in range(bunds_M)])\n",
    "    βs = np.array([result[j][bunds_M + 1:] for j in range(bunds_M)])\n",
    "    return [λ0s, αs, βs]"
   ]
  },
  {
   "cell_type": "markdown",
   "metadata": {},
   "source": [
    "## Day 0"
   ]
  },
  {
   "cell_type": "code",
   "execution_count": 24,
   "metadata": {},
   "outputs": [
    {
     "name": "stdout",
     "output_type": "stream",
     "text": [
      "m = 0\n",
      "b'CONVERGENCE: REL_REDUCTION_OF_F_<=_FACTR*EPSMCH'\n",
      "-59798.875207009\n",
      "m = 1\n",
      "b'CONVERGENCE: REL_REDUCTION_OF_F_<=_FACTR*EPSMCH'\n",
      "-61534.937831638614\n",
      "m = 2\n",
      "b'CONVERGENCE: REL_REDUCTION_OF_F_<=_FACTR*EPSMCH'\n",
      "-43201.05394931278\n",
      "m = 3\n",
      "b'CONVERGENCE: REL_REDUCTION_OF_F_<=_FACTR*EPSMCH'\n",
      "-43718.87387218821\n",
      "CPU times: user 11min 5s, sys: 1.35 s, total: 11min 7s\n",
      "Wall time: 11min 8s\n"
     ]
    }
   ],
   "source": [
    "%%time\n",
    "\n",
    "bund_result = hl.findθlatm(timestamps_list[0], bounds=bund_bounds, x0=bund_x0, τ=lat_bund, method='L-BFGS-B', print_m=True)"
   ]
  },
  {
   "cell_type": "code",
   "execution_count": 25,
   "metadata": {},
   "outputs": [
    {
     "data": {
      "text/plain": [
       "[array([0.02972414, 0.02844437, 0.03815923, 0.03680496]),\n",
       " array([[2.56067439e+02, 1.48270015e+03, 3.92679722e+02, 1.34741815e+02],\n",
       "        [8.69680580e+02, 2.45056916e+02, 6.04519949e+00, 2.54739087e+02],\n",
       "        [1.00000000e-02, 4.76962954e+02, 3.67049951e+00, 2.25334974e-01],\n",
       "        [5.22664365e+02, 1.00000000e-02, 7.29361595e-01, 2.36907220e+00]]),\n",
       " array([[1.49796954e+03, 2.73586157e+03, 3.01797791e+03, 3.30100497e+03],\n",
       "        [2.42470812e+03, 1.18543895e+03, 1.84467190e+03, 2.43486326e+03],\n",
       "        [1.68315034e-02, 9.62026464e+02, 7.98153701e+00, 1.11883119e+01],\n",
       "        [9.28208211e+02, 1.80279850e-02, 9.94812385e+01, 4.08581153e+00]])]"
      ]
     },
     "execution_count": 25,
     "metadata": {},
     "output_type": "execute_result"
    }
   ],
   "source": [
    "show_results(bund_result)"
   ]
  },
  {
   "cell_type": "markdown",
   "metadata": {},
   "source": [
    "#### No latency on inference leads to a bad estimate"
   ]
  },
  {
   "cell_type": "code",
   "execution_count": 28,
   "metadata": {},
   "outputs": [
    {
     "name": "stdout",
     "output_type": "stream",
     "text": [
      "m = 0\n",
      "b'CONVERGENCE: REL_REDUCTION_OF_F_<=_FACTR*EPSMCH'\n",
      "-107193.7906956965\n",
      "m = 1\n",
      "b'CONVERGENCE: NORM_OF_PROJECTED_GRADIENT_<=_PGTOL'\n",
      "-119805.1232022354\n",
      "m = 2\n",
      "b'CONVERGENCE: REL_REDUCTION_OF_F_<=_FACTR*EPSMCH'\n",
      "-160410.86954295423\n",
      "m = 3\n",
      "b'ABNORMAL_TERMINATION_IN_LNSRCH'\n",
      "-183697.3056675103\n",
      "CPU times: user 5min 24s, sys: 672 ms, total: 5min 24s\n",
      "Wall time: 5min 25s\n"
     ]
    }
   ],
   "source": [
    "%%time\n",
    "\n",
    "bund_result_0 = hl.findθlatm(timestamps_list[0], bounds=bund_bounds, x0=bund_x0, τ=0, method='L-BFGS-B', print_m=True)"
   ]
  },
  {
   "cell_type": "code",
   "execution_count": 29,
   "metadata": {},
   "outputs": [
    {
     "data": {
      "text/plain": [
       "[array([0.0001, 0.0001, 0.0001, 0.0001]),\n",
       " array([[6.17233544e+04, 1.00000000e-02, 1.00000000e-02, 1.00000000e-02],\n",
       "        [1.00000000e-02, 5.97702943e+05, 1.00000000e-02, 1.00000000e-02],\n",
       "        [1.00000000e-02, 1.00000000e-02, 1.08458364e+04, 1.00000000e-02],\n",
       "        [1.00000000e-02, 1.00000000e-02, 1.00000000e-02, 1.03508446e+04]]),\n",
       " array([[ 206238.75328963,   37390.75417917,   49433.78045621,\n",
       "           61000.69107067],\n",
       "        [ 280732.4079973 , 1000000.        ,  422978.97555262,\n",
       "          489973.19951637],\n",
       "        [   2976.02218765,    3309.77973189,   24189.50757544,\n",
       "            5163.92936526],\n",
       "        [   2385.19871058,    2363.18078309,    3838.2692137 ,\n",
       "           23102.30240808]])]"
      ]
     },
     "execution_count": 29,
     "metadata": {},
     "output_type": "execute_result"
    }
   ],
   "source": [
    "show_results(bund_result_0)"
   ]
  },
  {
   "cell_type": "markdown",
   "metadata": {},
   "source": [
    "## Day 0 - Differential Evolution"
   ]
  },
  {
   "cell_type": "code",
   "execution_count": 26,
   "metadata": {},
   "outputs": [
    {
     "name": "stdout",
     "output_type": "stream",
     "text": [
      "m = 0\n",
      "Optimization terminated successfully.\n",
      "-60985.36461429661\n",
      "m = 1\n",
      "Optimization terminated successfully.\n",
      "-62022.37044688074\n",
      "m = 2\n",
      "Optimization terminated successfully.\n",
      "-42804.27917211133\n",
      "m = 3\n",
      "Optimization terminated successfully.\n",
      "-43847.610296090046\n",
      "CPU times: user 4h 43min 52s, sys: 27.3 s, total: 4h 44min 19s\n",
      "Wall time: 4h 44min 38s\n"
     ]
    }
   ],
   "source": [
    "%%time\n",
    "\n",
    "bund_result = hl.findθlatmde(timestamps_list[0], bounds=bund_bounds_de, τ=lat_bund, maxiter=300, popsize=20, tol=1e-2,\n",
    "                             print_m=True, disp=False)"
   ]
  },
  {
   "cell_type": "code",
   "execution_count": 27,
   "metadata": {},
   "outputs": [
    {
     "data": {
      "text/plain": [
       "[array([0.0270867 , 0.02977512, 0.09519626, 0.08616202]),\n",
       " array([[1.17208723e+03, 9.40919301e+01, 4.14563326e+02, 5.48499180e+03],\n",
       "        [2.85131621e+02, 8.52502714e+02, 1.15877792e+03, 3.64604355e+02],\n",
       "        [2.66037192e+03, 2.63089766e+02, 3.27099926e+00, 6.51009868e+01],\n",
       "        [2.79965303e+02, 3.56804952e+02, 1.15731209e+02, 2.12751995e+00]]),\n",
       " array([[6.60624850e+03, 3.98170358e+02, 3.12501705e+03, 9.48762173e+05],\n",
       "        [1.60831842e+03, 4.08627437e+03, 3.14645389e+05, 3.11796379e+03],\n",
       "        [6.72975846e+05, 1.09652246e+03, 6.58618594e+00, 3.63866762e+05],\n",
       "        [1.19437160e+03, 1.67632425e+04, 3.88331719e+05, 3.45673500e+00]])]"
      ]
     },
     "execution_count": 27,
     "metadata": {},
     "output_type": "execute_result"
    }
   ],
   "source": [
    "show_results(bund_result)"
   ]
  },
  {
   "cell_type": "markdown",
   "metadata": {},
   "source": [
    "#### No latency on inference leads to a bad estimate"
   ]
  },
  {
   "cell_type": "code",
   "execution_count": 30,
   "metadata": {},
   "outputs": [
    {
     "name": "stdout",
     "output_type": "stream",
     "text": [
      "differential_evolution step 1: f(x)= -83268.2\n",
      "differential_evolution step 2: f(x)= -83268.2\n",
      "differential_evolution step 3: f(x)= -83268.2\n",
      "differential_evolution step 4: f(x)= -93779.5\n",
      "differential_evolution step 5: f(x)= -101817\n",
      "differential_evolution step 6: f(x)= -106593\n",
      "differential_evolution step 7: f(x)= -109199\n",
      "differential_evolution step 8: f(x)= -112258\n",
      "differential_evolution step 9: f(x)= -112573\n",
      "differential_evolution step 10: f(x)= -112573\n",
      "differential_evolution step 11: f(x)= -112573\n",
      "differential_evolution step 12: f(x)= -114014\n",
      "differential_evolution step 13: f(x)= -114014\n",
      "differential_evolution step 14: f(x)= -114014\n",
      "differential_evolution step 15: f(x)= -114014\n",
      "differential_evolution step 16: f(x)= -114014\n",
      "differential_evolution step 17: f(x)= -114798\n",
      "differential_evolution step 18: f(x)= -114798\n",
      "differential_evolution step 19: f(x)= -114798\n",
      "differential_evolution step 20: f(x)= -115625\n",
      "differential_evolution step 21: f(x)= -115625\n",
      "differential_evolution step 22: f(x)= -116379\n",
      "differential_evolution step 23: f(x)= -116379\n",
      "differential_evolution step 24: f(x)= -116379\n",
      "differential_evolution step 25: f(x)= -116924\n",
      "differential_evolution step 26: f(x)= -116961\n",
      "differential_evolution step 27: f(x)= -116961\n",
      "differential_evolution step 28: f(x)= -116961\n",
      "differential_evolution step 29: f(x)= -116961\n",
      "differential_evolution step 30: f(x)= -116961\n",
      "differential_evolution step 31: f(x)= -116961\n",
      "differential_evolution step 32: f(x)= -117194\n",
      "differential_evolution step 33: f(x)= -117282\n",
      "differential_evolution step 34: f(x)= -117282\n",
      "differential_evolution step 35: f(x)= -117282\n",
      "differential_evolution step 36: f(x)= -117786\n",
      "differential_evolution step 37: f(x)= -117786\n",
      "differential_evolution step 38: f(x)= -117786\n",
      "differential_evolution step 39: f(x)= -117786\n",
      "differential_evolution step 40: f(x)= -117786\n",
      "differential_evolution step 41: f(x)= -117786\n",
      "differential_evolution step 42: f(x)= -117786\n",
      "differential_evolution step 43: f(x)= -117786\n",
      "differential_evolution step 44: f(x)= -117786\n",
      "differential_evolution step 45: f(x)= -117786\n",
      "differential_evolution step 46: f(x)= -117786\n",
      "differential_evolution step 47: f(x)= -117786\n",
      "differential_evolution step 48: f(x)= -117843\n",
      "differential_evolution step 49: f(x)= -117843\n",
      "m = 0\n",
      "Optimization terminated successfully.\n",
      "-117845.63658993584\n",
      "differential_evolution step 1: f(x)= -85983.6\n",
      "differential_evolution step 2: f(x)= -92493.7\n",
      "differential_evolution step 3: f(x)= -107836\n",
      "differential_evolution step 4: f(x)= -107836\n",
      "differential_evolution step 5: f(x)= -107836\n",
      "differential_evolution step 6: f(x)= -111570\n",
      "differential_evolution step 7: f(x)= -111570\n",
      "differential_evolution step 8: f(x)= -111570\n",
      "differential_evolution step 9: f(x)= -111570\n",
      "differential_evolution step 10: f(x)= -112303\n",
      "differential_evolution step 11: f(x)= -113078\n",
      "differential_evolution step 12: f(x)= -113078\n",
      "differential_evolution step 13: f(x)= -113078\n",
      "differential_evolution step 14: f(x)= -113078\n",
      "differential_evolution step 15: f(x)= -116708\n",
      "differential_evolution step 16: f(x)= -116708\n",
      "differential_evolution step 17: f(x)= -116708\n",
      "differential_evolution step 18: f(x)= -116708\n",
      "differential_evolution step 19: f(x)= -116708\n",
      "differential_evolution step 20: f(x)= -116899\n",
      "differential_evolution step 21: f(x)= -117312\n",
      "differential_evolution step 22: f(x)= -117959\n",
      "differential_evolution step 23: f(x)= -117959\n",
      "differential_evolution step 24: f(x)= -117959\n",
      "differential_evolution step 25: f(x)= -118108\n",
      "differential_evolution step 26: f(x)= -118993\n",
      "differential_evolution step 27: f(x)= -118993\n",
      "differential_evolution step 28: f(x)= -118993\n",
      "differential_evolution step 29: f(x)= -119593\n",
      "differential_evolution step 30: f(x)= -119593\n",
      "differential_evolution step 31: f(x)= -119593\n",
      "differential_evolution step 32: f(x)= -119593\n",
      "differential_evolution step 33: f(x)= -119593\n",
      "differential_evolution step 34: f(x)= -119598\n",
      "differential_evolution step 35: f(x)= -119598\n",
      "differential_evolution step 36: f(x)= -119598\n",
      "differential_evolution step 37: f(x)= -119598\n",
      "differential_evolution step 38: f(x)= -119598\n",
      "differential_evolution step 39: f(x)= -119598\n",
      "differential_evolution step 40: f(x)= -119598\n",
      "differential_evolution step 41: f(x)= -119598\n",
      "differential_evolution step 42: f(x)= -119598\n",
      "differential_evolution step 43: f(x)= -119598\n",
      "differential_evolution step 44: f(x)= -119598\n",
      "differential_evolution step 45: f(x)= -119600\n",
      "differential_evolution step 46: f(x)= -119600\n",
      "differential_evolution step 47: f(x)= -119600\n",
      "differential_evolution step 48: f(x)= -119710\n",
      "differential_evolution step 49: f(x)= -119762\n",
      "differential_evolution step 50: f(x)= -119809\n",
      "differential_evolution step 51: f(x)= -119844\n",
      "differential_evolution step 52: f(x)= -119844\n",
      "differential_evolution step 53: f(x)= -120049\n",
      "differential_evolution step 54: f(x)= -120049\n",
      "differential_evolution step 55: f(x)= -120082\n",
      "differential_evolution step 56: f(x)= -120082\n",
      "m = 1\n",
      "Optimization terminated successfully.\n",
      "-120198.68145098301\n",
      "differential_evolution step 1: f(x)= -172847\n",
      "differential_evolution step 2: f(x)= -172847\n",
      "differential_evolution step 3: f(x)= -172847\n",
      "differential_evolution step 4: f(x)= -180857\n",
      "differential_evolution step 5: f(x)= -189139\n",
      "differential_evolution step 6: f(x)= -196202\n",
      "differential_evolution step 7: f(x)= -196939\n",
      "differential_evolution step 8: f(x)= -196939\n",
      "differential_evolution step 9: f(x)= -196939\n",
      "differential_evolution step 10: f(x)= -196939\n",
      "differential_evolution step 11: f(x)= -201264\n",
      "differential_evolution step 12: f(x)= -201264\n",
      "differential_evolution step 13: f(x)= -205764\n",
      "differential_evolution step 14: f(x)= -205764\n",
      "differential_evolution step 15: f(x)= -205764\n",
      "differential_evolution step 16: f(x)= -205764\n",
      "differential_evolution step 17: f(x)= -206015\n",
      "differential_evolution step 18: f(x)= -206883\n",
      "differential_evolution step 19: f(x)= -206883\n",
      "differential_evolution step 20: f(x)= -206883\n",
      "differential_evolution step 21: f(x)= -206883\n",
      "differential_evolution step 22: f(x)= -207337\n",
      "differential_evolution step 23: f(x)= -207337\n",
      "differential_evolution step 24: f(x)= -207337\n",
      "differential_evolution step 25: f(x)= -207337\n",
      "differential_evolution step 26: f(x)= -207337\n",
      "differential_evolution step 27: f(x)= -207960\n",
      "differential_evolution step 28: f(x)= -207960\n",
      "differential_evolution step 29: f(x)= -207960\n",
      "differential_evolution step 30: f(x)= -207960\n",
      "differential_evolution step 31: f(x)= -208411\n",
      "differential_evolution step 32: f(x)= -208411\n",
      "differential_evolution step 33: f(x)= -208411\n",
      "differential_evolution step 34: f(x)= -208411\n",
      "differential_evolution step 35: f(x)= -208411\n",
      "differential_evolution step 36: f(x)= -208411\n",
      "differential_evolution step 37: f(x)= -208756\n",
      "differential_evolution step 38: f(x)= -208756\n",
      "differential_evolution step 39: f(x)= -208816\n",
      "differential_evolution step 40: f(x)= -208816\n",
      "differential_evolution step 41: f(x)= -208983\n",
      "differential_evolution step 42: f(x)= -208983\n",
      "m = 2\n",
      "Optimization terminated successfully.\n",
      "-209329.74929667579\n",
      "differential_evolution step 1: f(x)= -222283\n",
      "differential_evolution step 2: f(x)= -222283\n",
      "differential_evolution step 3: f(x)= -222283\n",
      "differential_evolution step 4: f(x)= -229105\n",
      "differential_evolution step 5: f(x)= -234535\n",
      "differential_evolution step 6: f(x)= -234535\n",
      "differential_evolution step 7: f(x)= -234535\n",
      "differential_evolution step 8: f(x)= -235959\n",
      "differential_evolution step 9: f(x)= -240346\n",
      "differential_evolution step 10: f(x)= -240346\n",
      "differential_evolution step 11: f(x)= -240346\n",
      "differential_evolution step 12: f(x)= -240676\n",
      "differential_evolution step 13: f(x)= -240676\n",
      "differential_evolution step 14: f(x)= -240676\n",
      "differential_evolution step 15: f(x)= -240676\n",
      "differential_evolution step 16: f(x)= -240676\n",
      "differential_evolution step 17: f(x)= -240986\n",
      "differential_evolution step 18: f(x)= -241254\n",
      "differential_evolution step 19: f(x)= -241254\n",
      "differential_evolution step 20: f(x)= -241387\n",
      "differential_evolution step 21: f(x)= -241716\n",
      "differential_evolution step 22: f(x)= -242413\n",
      "differential_evolution step 23: f(x)= -242413\n",
      "differential_evolution step 24: f(x)= -242413\n",
      "differential_evolution step 25: f(x)= -242413\n",
      "differential_evolution step 26: f(x)= -242921\n",
      "differential_evolution step 27: f(x)= -242921\n",
      "differential_evolution step 28: f(x)= -242921\n",
      "differential_evolution step 29: f(x)= -242921\n",
      "differential_evolution step 30: f(x)= -242921\n",
      "differential_evolution step 31: f(x)= -243069\n",
      "differential_evolution step 32: f(x)= -243069\n",
      "differential_evolution step 33: f(x)= -243069\n",
      "differential_evolution step 34: f(x)= -243148\n",
      "differential_evolution step 35: f(x)= -243209\n",
      "differential_evolution step 36: f(x)= -243303\n",
      "differential_evolution step 37: f(x)= -243303\n",
      "differential_evolution step 38: f(x)= -243303\n",
      "m = 3\n",
      "Optimization terminated successfully.\n",
      "-243373.11764767347\n",
      "CPU times: user 1h 8min 57s, sys: 6.66 s, total: 1h 9min 4s\n",
      "Wall time: 1h 9min 6s\n"
     ]
    }
   ],
   "source": [
    "%%time\n",
    "\n",
    "bund_result_0 = hl.findθlatmde(timestamps_list[0], bounds=bund_bounds_de, τ=0, maxiter=300, popsize=20, tol=1e-2,\n",
    "                             print_m=True, disp=True)"
   ]
  },
  {
   "cell_type": "code",
   "execution_count": 31,
   "metadata": {},
   "outputs": [
    {
     "data": {
      "text/plain": [
       "[array([0.0001, 0.0001, 0.0001, 0.0001]),\n",
       " array([[7.67208313e+05, 1.03501731e+04, 1.12484909e+03, 3.08018888e+03],\n",
       "        [6.55957423e+03, 9.22793417e+05, 2.55311487e+03, 6.58212033e+02],\n",
       "        [1.03558841e+04, 1.57330988e+04, 9.43320250e+05, 1.00000000e-02],\n",
       "        [5.71627283e+04, 1.36659038e+04, 3.30510346e+04, 9.64034125e+05]]),\n",
       " array([[990354.90317211, 744881.42381639, 679496.97985725,\n",
       "         617124.33580757],\n",
       "        [670904.35362485, 982182.6903935 , 740771.78833091,\n",
       "         577190.82428488],\n",
       "        [328083.58973268, 771721.57156598, 996825.54932178,\n",
       "         440961.6536225 ],\n",
       "        [788596.07611558, 566419.37530591, 983876.13535997,\n",
       "         997155.00282689]])]"
      ]
     },
     "execution_count": 31,
     "metadata": {},
     "output_type": "execute_result"
    }
   ],
   "source": [
    "show_results(bund_result_0)"
   ]
  },
  {
   "cell_type": "markdown",
   "metadata": {},
   "source": [
    "## Day 1"
   ]
  },
  {
   "cell_type": "code",
   "execution_count": 34,
   "metadata": {},
   "outputs": [
    {
     "name": "stdout",
     "output_type": "stream",
     "text": [
      "m = 0\n",
      "b'CONVERGENCE: REL_REDUCTION_OF_F_<=_FACTR*EPSMCH'\n",
      "-62128.00642575798\n",
      "m = 1\n",
      "b'CONVERGENCE: REL_REDUCTION_OF_F_<=_FACTR*EPSMCH'\n",
      "-61141.045042844096\n",
      "m = 2\n",
      "b'CONVERGENCE: REL_REDUCTION_OF_F_<=_FACTR*EPSMCH'\n",
      "-42679.41453769193\n",
      "m = 3\n",
      "b'CONVERGENCE: REL_REDUCTION_OF_F_<=_FACTR*EPSMCH'\n",
      "-46673.37636351674\n",
      "CPU times: user 10min 18s, sys: 1.6 s, total: 10min 19s\n",
      "Wall time: 10min 20s\n"
     ]
    }
   ],
   "source": [
    "%%time\n",
    "\n",
    "bund_result_1 = hl.findθlatm(timestamps_list[1], bounds=bund_bounds, x0=bund_x0, τ=lat_bund, method='L-BFGS-B', print_m=True)"
   ]
  },
  {
   "cell_type": "code",
   "execution_count": 35,
   "metadata": {},
   "outputs": [
    {
     "data": {
      "text/plain": [
       "[array([0.0244582 , 0.02547934, 0.09384817, 0.03164681]),\n",
       " array([[3.90290807e+02, 2.07300557e+03, 1.57715346e+02, 9.65421606e+00],\n",
       "        [1.08640257e+03, 3.07889342e+02, 8.50123387e+00, 5.73768838e+02],\n",
       "        [1.61980771e-02, 3.73056667e+00, 1.09358109e+01, 7.90958783e-01],\n",
       "        [2.16228456e+02, 8.40546255e-01, 1.00000000e-02, 2.26396886e+00]]),\n",
       " array([[1.92118826e+03, 2.82984262e+03, 2.26299944e+03, 2.86753615e+03],\n",
       "        [2.27425608e+03, 1.75910192e+03, 2.26992439e+03, 3.20336403e+03],\n",
       "        [3.35207719e-02, 1.70617102e+01, 4.07363439e+01, 9.13102908e+00],\n",
       "        [1.01142357e+03, 1.99815951e+01, 3.76613532e-02, 3.63471125e+00]])]"
      ]
     },
     "execution_count": 35,
     "metadata": {},
     "output_type": "execute_result"
    }
   ],
   "source": [
    "show_results(bund_result_1)"
   ]
  },
  {
   "cell_type": "markdown",
   "metadata": {},
   "source": [
    "## Day 1 - Differential Evolution"
   ]
  },
  {
   "cell_type": "code",
   "execution_count": 36,
   "metadata": {},
   "outputs": [
    {
     "name": "stdout",
     "output_type": "stream",
     "text": [
      "m = 0\n",
      "Optimization terminated successfully.\n",
      "-63540.322481019975\n",
      "m = 1\n",
      "Optimization terminated successfully.\n",
      "-62283.82358426356\n",
      "m = 2\n",
      "Optimization terminated successfully.\n",
      "-43441.653869177404\n",
      "m = 3\n",
      "Optimization terminated successfully.\n",
      "-45783.290700785976\n",
      "CPU times: user 7h 58min 42s, sys: 31.9 s, total: 7h 59min 14s\n",
      "Wall time: 7h 59min 35s\n"
     ]
    }
   ],
   "source": [
    "%%time\n",
    "\n",
    "bund_result_1 = hl.findθlatmde(timestamps_list[1], bounds=bund_bounds_de, τ=lat_bund, maxiter=300, popsize=25, tol=1e-2,\n",
    "                             print_m=True, disp=False)"
   ]
  },
  {
   "cell_type": "code",
   "execution_count": 37,
   "metadata": {},
   "outputs": [
    {
     "data": {
      "text/plain": [
       "[array([0.0251267 , 0.02355387, 0.10307676, 0.08139396]),\n",
       " array([[7.98338311e+02, 4.39133128e+02, 3.50147088e+02, 1.36807204e+01],\n",
       "        [1.15912831e+02, 1.26585129e+03, 2.91379268e+03, 2.18785981e+02],\n",
       "        [2.24532289e+03, 3.03337271e+02, 4.70820985e+00, 4.01813081e+02],\n",
       "        [2.24396859e+02, 1.22961648e+03, 2.64083161e+02, 1.87123506e+00]]),\n",
       " array([[3.90332492e+03, 2.03607169e+03, 2.80825151e+03, 4.02579657e+05],\n",
       "        [5.11846799e+02, 4.48891129e+03, 5.09490336e+05, 2.54271332e+03],\n",
       "        [6.78551596e+05, 1.19547326e+03, 9.58937481e+00, 6.21292719e+05],\n",
       "        [8.89620385e+02, 7.66305179e+05, 2.71455947e+05, 2.77027597e+00]])]"
      ]
     },
     "execution_count": 37,
     "metadata": {},
     "output_type": "execute_result"
    }
   ],
   "source": [
    "show_results(bund_result_1)"
   ]
  }
 ],
 "metadata": {
  "jupytext": {
   "encoding": "# -*- coding: utf-8 -*-",
   "formats": "ipynb,py:percent"
  },
  "kernelspec": {
   "display_name": "Python 3",
   "language": "python",
   "name": "python3"
  },
  "language_info": {
   "codemirror_mode": {
    "name": "ipython",
    "version": 3
   },
   "file_extension": ".py",
   "mimetype": "text/x-python",
   "name": "python",
   "nbconvert_exporter": "python",
   "pygments_lexer": "ipython3",
   "version": "3.7.7"
  }
 },
 "nbformat": 4,
 "nbformat_minor": 4
}
