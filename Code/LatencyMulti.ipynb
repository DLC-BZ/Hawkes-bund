{
 "cells": [
  {
   "cell_type": "markdown",
   "metadata": {},
   "source": [
    "# Latency and Tick - Multi"
   ]
  },
  {
   "cell_type": "markdown",
   "metadata": {},
   "source": [
    "## Python Imports"
   ]
  },
  {
   "cell_type": "code",
   "execution_count": 1,
   "metadata": {
    "title": "Python imports"
   },
   "outputs": [],
   "source": [
    "import numpy as np\n",
    "# import matplotlib\n",
    "# import matplotlib.pyplot as plt"
   ]
  },
  {
   "cell_type": "code",
   "execution_count": 2,
   "metadata": {
    "title": "Python imports"
   },
   "outputs": [],
   "source": [
    "from scipy.optimize import minimize"
   ]
  },
  {
   "cell_type": "code",
   "execution_count": 3,
   "metadata": {
    "title": "Python imports"
   },
   "outputs": [],
   "source": [
    "from functools import partial\n",
    "import datetime as dtt"
   ]
  },
  {
   "cell_type": "code",
   "execution_count": 4,
   "metadata": {},
   "outputs": [],
   "source": [
    "from numba import jit, njit\n",
    "from numba import prange\n",
    "from numba import types"
   ]
  },
  {
   "cell_type": "markdown",
   "metadata": {},
   "source": [
    "## Tick Imports"
   ]
  },
  {
   "cell_type": "code",
   "execution_count": 5,
   "metadata": {},
   "outputs": [],
   "source": [
    "# %matplotlib inline"
   ]
  },
  {
   "cell_type": "code",
   "execution_count": 6,
   "metadata": {
    "title": "Tick Imports"
   },
   "outputs": [],
   "source": [
    "from tick.hawkes import SimuHawkes, SimuHawkesMulti\n",
    "from tick.base import TimeFunction\n",
    "from tick.hawkes import HawkesKernelTimeFunc, HawkesKernelExp"
   ]
  },
  {
   "cell_type": "code",
   "execution_count": 7,
   "metadata": {},
   "outputs": [],
   "source": [
    "import hawklat as hl"
   ]
  },
  {
   "cell_type": "markdown",
   "metadata": {},
   "source": [
    "## Multidimensional Hawkes with latency"
   ]
  },
  {
   "cell_type": "code",
   "execution_count": 8,
   "metadata": {},
   "outputs": [],
   "source": [
    "lat2 = 2"
   ]
  },
  {
   "cell_type": "code",
   "execution_count": 9,
   "metadata": {},
   "outputs": [],
   "source": [
    "α11 = 0.5\n",
    "β11 = 1.4\n",
    "α12 = 0.7\n",
    "β12 = 1.8\n",
    "α21 = 0.9\n",
    "β21 = 2.2\n",
    "α22 = 0.3\n",
    "β22 = 1.0\n",
    "λ01 = 0.6\n",
    "λ02 = 0.2"
   ]
  },
  {
   "cell_type": "code",
   "execution_count": 10,
   "metadata": {},
   "outputs": [],
   "source": [
    "def time_funclat(f, support, lat=0, steps=100,\n",
    "              inter_mode=TimeFunction.InterConstRight):\n",
    "    t_values = np.linspace(0, support, steps + 1)\n",
    "    y_values = f(t_values)\n",
    "    if lat > 0:\n",
    "        t_values_lat = np.linspace(0, lat, steps)\n",
    "        y_values_lat = np.zeros(steps)\n",
    "        t_values_shifted = t_values + lat\n",
    "        t_all = np.concatenate((t_values_lat, t_values_shifted))\n",
    "        y_all = np.concatenate((y_values_lat, y_values))\n",
    "    else:\n",
    "        t_all = t_values.view()\n",
    "        y_all = y_values.view()\n",
    "    return TimeFunction(values=(t_all, y_all),\n",
    "                        border_type=TimeFunction.Border0,\n",
    "                        inter_mode=inter_mode)"
   ]
  },
  {
   "cell_type": "code",
   "execution_count": 11,
   "metadata": {},
   "outputs": [],
   "source": [
    "def ek11(t):\n",
    "    return α11 * np.exp(-β11 * t)\n",
    "def ek12(t):\n",
    "    return α12 * np.exp(-β12 * t)\n",
    "def ek21(t):\n",
    "    return α21 * np.exp(-β21 * t)\n",
    "def ek22(t):\n",
    "    return α22 * np.exp(-β22 * t)"
   ]
  },
  {
   "cell_type": "code",
   "execution_count": 12,
   "metadata": {},
   "outputs": [],
   "source": [
    "sup11 = 10\n",
    "sup12 = 10\n",
    "sup21 = 10\n",
    "sup22 = 10"
   ]
  },
  {
   "cell_type": "code",
   "execution_count": 13,
   "metadata": {},
   "outputs": [],
   "source": [
    "ekc11 = time_funclat(ek11, sup11, lat2)\n",
    "ekc12 = time_funclat(ek12, sup12, lat2)\n",
    "ekc21 = time_funclat(ek21, sup21, lat2)\n",
    "ekc22 = time_funclat(ek22, sup22, lat2)"
   ]
  },
  {
   "cell_type": "code",
   "execution_count": 14,
   "metadata": {},
   "outputs": [],
   "source": [
    "ektf11 = HawkesKernelTimeFunc(ekc11)\n",
    "ektf12 = HawkesKernelTimeFunc(ekc12)\n",
    "ektf21 = HawkesKernelTimeFunc(ekc21)\n",
    "ektf22 = HawkesKernelTimeFunc(ekc22)"
   ]
  },
  {
   "cell_type": "markdown",
   "metadata": {},
   "source": [
    "## Simulation definitions"
   ]
  },
  {
   "cell_type": "code",
   "execution_count": 15,
   "metadata": {},
   "outputs": [],
   "source": [
    "n_paths = 100"
   ]
  },
  {
   "cell_type": "code",
   "execution_count": 16,
   "metadata": {},
   "outputs": [],
   "source": [
    "end_time_1 = 100\n",
    "end_time_2 = 1000\n",
    "end_time_3 = 10000"
   ]
  },
  {
   "cell_type": "code",
   "execution_count": 17,
   "metadata": {},
   "outputs": [],
   "source": [
    "hawkestf2x2_1 = SimuHawkes(baseline=[λ01, λ02], kernels=[[ektf11, ektf12], [ektf21, ektf22]],\n",
    "                          end_time=end_time_1, verbose=False, seed=13)\n",
    "hawkestf2x2_2 = SimuHawkes(baseline=[λ01, λ02], kernels=[[ektf11, ektf12], [ektf21, ektf22]],\n",
    "                          end_time=end_time_2, verbose=False, seed=13)\n",
    "hawkestf2x2_3 = SimuHawkes(baseline=[λ01, λ02], kernels=[[ektf11, ektf12], [ektf21, ektf22]],\n",
    "                          end_time=end_time_3, verbose=False, seed=13)"
   ]
  },
  {
   "cell_type": "code",
   "execution_count": 18,
   "metadata": {},
   "outputs": [
    {
     "name": "stdout",
     "output_type": "stream",
     "text": [
      "CPU times: user 27.9 s, sys: 444 ms, total: 28.3 s\n",
      "Wall time: 34.7 s\n"
     ]
    }
   ],
   "source": [
    "%%time\n",
    "\n",
    "multitf2x2_1 = SimuHawkesMulti(hawkestf2x2_1, n_simulations=n_paths)\n",
    "multitf2x2_1.simulate()"
   ]
  },
  {
   "cell_type": "code",
   "execution_count": 19,
   "metadata": {},
   "outputs": [
    {
     "name": "stdout",
     "output_type": "stream",
     "text": [
      "CPU times: user 23.8 s, sys: 367 ms, total: 24.1 s\n",
      "Wall time: 34.6 s\n"
     ]
    }
   ],
   "source": [
    "%%time\n",
    "\n",
    "multitf2x2_2 = SimuHawkesMulti(hawkestf2x2_2, n_simulations=n_paths)\n",
    "multitf2x2_2.simulate()"
   ]
  },
  {
   "cell_type": "code",
   "execution_count": 20,
   "metadata": {},
   "outputs": [
    {
     "name": "stdout",
     "output_type": "stream",
     "text": [
      "CPU times: user 28.8 s, sys: 1.61 s, total: 30.5 s\n",
      "Wall time: 1min 44s\n"
     ]
    }
   ],
   "source": [
    "%%time\n",
    "\n",
    "multitf2x2_3 = SimuHawkesMulti(hawkestf2x2_3, n_simulations=n_paths)\n",
    "multitf2x2_3.simulate()"
   ]
  },
  {
   "cell_type": "code",
   "execution_count": 21,
   "metadata": {},
   "outputs": [],
   "source": [
    "M = 2"
   ]
  },
  {
   "cell_type": "code",
   "execution_count": 22,
   "metadata": {},
   "outputs": [],
   "source": [
    "def_bounds_M = [(1e-10, None)] * M + [(1e-10, None)] * (M ** 2) + [(2e-10, None)] * (M ** 2)"
   ]
  },
  {
   "cell_type": "code",
   "execution_count": 23,
   "metadata": {},
   "outputs": [],
   "source": [
    "def_x0_M = np.array([0.25] * M + [0.5] * (M ** 2) + [1.0] * (M ** 2))"
   ]
  },
  {
   "cell_type": "code",
   "execution_count": 24,
   "metadata": {},
   "outputs": [],
   "source": [
    "# %%time\n",
    "\n",
    "# findθlatm(ts, def_bounds_M, def_x0_M, lat2, method='L-BFGS-B')"
   ]
  },
  {
   "cell_type": "raw",
   "metadata": {},
   "source": [
    "λ01 = 0.6, α11 = 0.5, α12 = 0.7, β11 = 1.4, β12 = 1.8\n",
    "λ02 = 0.2, α21 = 0.9, α22 = 0.3, β21 = 2.2, β22 = 1.0"
   ]
  },
  {
   "cell_type": "code",
   "execution_count": 25,
   "metadata": {},
   "outputs": [
    {
     "name": "stdout",
     "output_type": "stream",
     "text": [
      "CPU times: user 8.95 s, sys: 98.8 ms, total: 9.05 s\n",
      "Wall time: 9.1 s\n"
     ]
    },
    {
     "data": {
      "text/plain": [
       "array([[0.68230047, 0.55215428, 0.72867875, 1.89378793, 1.92106985],\n",
       "       [0.27896873, 1.02679189, 0.36510127, 2.44541227, 2.61449249]])"
      ]
     },
     "execution_count": 25,
     "metadata": {},
     "output_type": "execute_result"
    }
   ],
   "source": [
    "%%time\n",
    "\n",
    "results = hl.findθlatms(multitf2x2_1.timestamps, bounds=def_bounds_M, x0=def_x0_M, τ=lat2, method='L-BFGS-B')\n",
    "np.mean(results, axis=0)"
   ]
  },
  {
   "cell_type": "code",
   "execution_count": 26,
   "metadata": {},
   "outputs": [
    {
     "name": "stdout",
     "output_type": "stream",
     "text": [
      "CPU times: user 6.99 s, sys: 59 ms, total: 7.05 s\n",
      "Wall time: 7.08 s\n"
     ]
    },
    {
     "data": {
      "text/plain": [
       "array([[0.67868855, 0.55109299, 0.72903459, 1.87390338, 1.93147407],\n",
       "       [0.28072521, 1.02628703, 0.36669532, 2.43878125, 2.65395131]])"
      ]
     },
     "execution_count": 26,
     "metadata": {},
     "output_type": "execute_result"
    }
   ],
   "source": [
    "%%time\n",
    "\n",
    "results = hl.findθlatms(multitf2x2_1.timestamps, bounds=def_bounds_M, x0=def_x0_M, τ=lat2, method='SLSQP')\n",
    "np.mean(results, axis=0)"
   ]
  },
  {
   "cell_type": "raw",
   "metadata": {},
   "source": [
    "λ01 = 0.6, α11 = 0.5, α12 = 0.7, β11 = 1.4, β12 = 1.8\n",
    "λ02 = 0.2, α21 = 0.9, α22 = 0.3, β21 = 2.2, β22 = 1.0"
   ]
  },
  {
   "cell_type": "code",
   "execution_count": 28,
   "metadata": {},
   "outputs": [
    {
     "name": "stdout",
     "output_type": "stream",
     "text": [
      "CPU times: user 1min 9s, sys: 401 ms, total: 1min 9s\n",
      "Wall time: 1min 9s\n"
     ]
    },
    {
     "data": {
      "text/plain": [
       "array([[0.62980085, 0.52039406, 0.74778337, 1.4360673 , 1.78078978],\n",
       "       [0.21471438, 0.97714022, 0.30940711, 2.17825913, 1.04939629]])"
      ]
     },
     "execution_count": 28,
     "metadata": {},
     "output_type": "execute_result"
    }
   ],
   "source": [
    "%%time\n",
    "\n",
    "results = hl.findθlatms(multitf2x2_2.timestamps, bounds=def_bounds_M, x0=def_x0_M, τ=lat2, method='L-BFGS-B')\n",
    "np.mean(results, axis=0)"
   ]
  },
  {
   "cell_type": "code",
   "execution_count": 29,
   "metadata": {},
   "outputs": [
    {
     "name": "stdout",
     "output_type": "stream",
     "text": [
      "CPU times: user 1min 7s, sys: 333 ms, total: 1min 7s\n",
      "Wall time: 1min 7s\n"
     ]
    },
    {
     "data": {
      "text/plain": [
       "array([[0.62979538, 0.52037684, 0.74778943, 1.43599844, 1.7808363 ],\n",
       "       [0.21472141, 0.9771504 , 0.30940997, 2.17827873, 1.04941341]])"
      ]
     },
     "execution_count": 29,
     "metadata": {},
     "output_type": "execute_result"
    }
   ],
   "source": [
    "%%time\n",
    "\n",
    "results = hl.findθlatms(multitf2x2_2.timestamps, bounds=def_bounds_M, x0=def_x0_M, τ=lat2, method='SLSQP')\n",
    "np.mean(results, axis=0)"
   ]
  },
  {
   "cell_type": "raw",
   "metadata": {},
   "source": [
    "λ01 = 0.6, α11 = 0.5, α12 = 0.7, β11 = 1.4, β12 = 1.8\n",
    "λ02 = 0.2, α21 = 0.9, α22 = 0.3, β21 = 2.2, β22 = 1.0"
   ]
  },
  {
   "cell_type": "code",
   "execution_count": 30,
   "metadata": {},
   "outputs": [
    {
     "name": "stdout",
     "output_type": "stream",
     "text": [
      "CPU times: user 16min 10s, sys: 4.39 s, total: 16min 14s\n",
      "Wall time: 16min 15s\n"
     ]
    },
    {
     "data": {
      "text/plain": [
       "array([[0.59944249, 0.52133502, 0.74622322, 1.37294924, 1.7595362 ],\n",
       "       [0.19736354, 0.96888156, 0.30955288, 2.11711623, 1.00217364]])"
      ]
     },
     "execution_count": 30,
     "metadata": {},
     "output_type": "execute_result"
    }
   ],
   "source": [
    "%%time\n",
    "\n",
    "results = hl.findθlatms(multitf2x2_3.timestamps, bounds=def_bounds_M, x0=def_x0_M, τ=lat2, method='L-BFGS-B')\n",
    "np.mean(results, axis=0)"
   ]
  },
  {
   "cell_type": "code",
   "execution_count": 31,
   "metadata": {},
   "outputs": [
    {
     "name": "stdout",
     "output_type": "stream",
     "text": [
      "CPU times: user 13min 22s, sys: 3.8 s, total: 13min 26s\n",
      "Wall time: 13min 24s\n"
     ]
    },
    {
     "data": {
      "text/plain": [
       "array([[0.59943253, 0.52128104, 0.74620689, 1.37277518, 1.75952202],\n",
       "       [0.19736548, 0.96890481, 0.30957518, 2.11717487, 1.00222318]])"
      ]
     },
     "execution_count": 31,
     "metadata": {},
     "output_type": "execute_result"
    }
   ],
   "source": [
    "%%time\n",
    "\n",
    "results = hl.findθlatms(multitf2x2_3.timestamps, bounds=def_bounds_M, x0=def_x0_M, τ=lat2, method='SLSQP')\n",
    "np.mean(results, axis=0)"
   ]
  },
  {
   "cell_type": "raw",
   "metadata": {},
   "source": [
    "λ01 = 0.6, α11 = 0.5, α12 = 0.7, β11 = 1.4, β12 = 1.8\n",
    "λ02 = 0.2, α21 = 0.9, α22 = 0.3, β21 = 2.2, β22 = 1.0"
   ]
  }
 ],
 "metadata": {
  "jupytext": {
   "encoding": "# -*- coding: utf-8 -*-",
   "formats": "ipynb,py:percent"
  },
  "kernelspec": {
   "display_name": "Python 3",
   "language": "python",
   "name": "python3"
  },
  "language_info": {
   "codemirror_mode": {
    "name": "ipython",
    "version": 3
   },
   "file_extension": ".py",
   "mimetype": "text/x-python",
   "name": "python",
   "nbconvert_exporter": "python",
   "pygments_lexer": "ipython3",
   "version": "3.8.6"
  }
 },
 "nbformat": 4,
 "nbformat_minor": 4
}
