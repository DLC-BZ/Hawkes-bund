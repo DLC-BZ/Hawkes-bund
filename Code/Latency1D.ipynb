{
 "cells": [
  {
   "cell_type": "markdown",
   "metadata": {},
   "source": [
    "# Latency and Tick - 1D"
   ]
  },
  {
   "cell_type": "markdown",
   "metadata": {},
   "source": [
    "## Python Imports"
   ]
  },
  {
   "cell_type": "code",
   "execution_count": 1,
   "metadata": {
    "title": "Python imports"
   },
   "outputs": [],
   "source": [
    "import numpy as np\n",
    "import matplotlib\n",
    "import matplotlib.pyplot as plt\n",
    "import pandas as pd"
   ]
  },
  {
   "cell_type": "code",
   "execution_count": 2,
   "metadata": {
    "title": "Python imports"
   },
   "outputs": [],
   "source": [
    "from scipy.optimize import minimize"
   ]
  },
  {
   "cell_type": "code",
   "execution_count": 3,
   "metadata": {
    "title": "Python imports"
   },
   "outputs": [],
   "source": [
    "from functools import partial"
   ]
  },
  {
   "cell_type": "code",
   "execution_count": 4,
   "metadata": {},
   "outputs": [],
   "source": [
    "from numba import jit\n",
    "from numba import njit\n",
    "from numba import types\n",
    "from numba.typed import Dict\n",
    "# from numba.typed import List"
   ]
  },
  {
   "cell_type": "markdown",
   "metadata": {},
   "source": [
    "## Tick Imports"
   ]
  },
  {
   "cell_type": "code",
   "execution_count": 5,
   "metadata": {},
   "outputs": [],
   "source": [
    "# %matplotlib inline"
   ]
  },
  {
   "cell_type": "code",
   "execution_count": 6,
   "metadata": {
    "title": "Tick Imports"
   },
   "outputs": [],
   "source": [
    "from tick.hawkes import SimuHawkes, SimuHawkesMulti\n",
    "from tick.base import TimeFunction\n",
    "from tick.hawkes import HawkesKernelTimeFunc, HawkesKernelExp\n",
    "# from tick.hawkes import HawkesKernel0\n",
    "# from tick.hawkes import HawkesKernelSumExp\n",
    "# from tick.hawkes import HawkesEM, HawkesSumExpKern\n",
    "# from tick.hawkes import SimuPoissonProcess, SimuInhomogeneousPoisson\n",
    "# from tick.hawkes import HawkesBasisKernels, HawkesSumGaussians\n",
    "from tick.plot import plot_timefunction\n",
    "# from tick.plot import plot_point_process\n",
    "# from tick.plot import plot_hawkes_kernels\n",
    "# from tick.plot import plot_basis_kernels"
   ]
  },
  {
   "cell_type": "code",
   "execution_count": 7,
   "metadata": {},
   "outputs": [],
   "source": [
    "import hawklat as hl"
   ]
  },
  {
   "cell_type": "markdown",
   "metadata": {},
   "source": [
    "## Definitions"
   ]
  },
  {
   "cell_type": "code",
   "execution_count": 51,
   "metadata": {},
   "outputs": [],
   "source": [
    "n_paths = 1000"
   ]
  },
  {
   "cell_type": "code",
   "execution_count": 9,
   "metadata": {},
   "outputs": [],
   "source": [
    "end_time_1 = 100\n",
    "end_time_2 = 1000\n",
    "end_time_3 = 10000"
   ]
  },
  {
   "cell_type": "markdown",
   "metadata": {},
   "source": [
    "## Simple example of exponential Kernel"
   ]
  },
  {
   "cell_type": "code",
   "execution_count": 10,
   "metadata": {},
   "outputs": [],
   "source": [
    "α1 = 0.6\n",
    "β1 = 0.8\n",
    "λ01 = 1.2"
   ]
  },
  {
   "cell_type": "code",
   "execution_count": 11,
   "metadata": {},
   "outputs": [],
   "source": [
    "def ek1(t):\n",
    "    return α1 * np.exp(-β1 * t)"
   ]
  },
  {
   "cell_type": "code",
   "execution_count": 12,
   "metadata": {},
   "outputs": [],
   "source": [
    "def ev_size(λ0, α, β, t):\n",
    "    return (λ0 * t) / (1 - (α / β))"
   ]
  },
  {
   "cell_type": "code",
   "execution_count": 13,
   "metadata": {},
   "outputs": [],
   "source": [
    "sup1 = 10"
   ]
  },
  {
   "cell_type": "code",
   "execution_count": 14,
   "metadata": {},
   "outputs": [],
   "source": [
    "ekc1 = hl.time_funclat(ek1, sup1, 0)"
   ]
  },
  {
   "cell_type": "code",
   "execution_count": 15,
   "metadata": {},
   "outputs": [],
   "source": [
    "ektf1 = HawkesKernelTimeFunc(ekc1)"
   ]
  },
  {
   "cell_type": "code",
   "execution_count": 16,
   "metadata": {},
   "outputs": [],
   "source": [
    "ekprm1 = HawkesKernelExp(α1 / β1, β1)"
   ]
  },
  {
   "cell_type": "code",
   "execution_count": 17,
   "metadata": {},
   "outputs": [
    {
     "name": "stderr",
     "output_type": "stream",
     "text": [
      "/Users/marcoscscarreira/opt/miniconda3/envs/mcsc/lib/python3.8/site-packages/tick/plot/plot_timefunction.py:113: UserWarning: Matplotlib is currently using agg, which is a non-GUI backend, so cannot show the figure.\n",
      "  plt.show()\n"
     ]
    },
    {
     "data": {
      "image/png": "[encoded data removed]",
      "text/plain": [
       "<Figure size 288x288 with 1 Axes>"
      ]
     },
     "execution_count": 17,
     "metadata": {},
     "output_type": "execute_result"
    }
   ],
   "source": [
    "plot_timefunction(ekc1)"
   ]
  },
  {
   "cell_type": "code",
   "execution_count": 32,
   "metadata": {},
   "outputs": [],
   "source": [
    "hawkestf1 = SimuHawkes(baseline=[λ01], kernels=[[ektf1]], end_time=end_time_1, verbose=False, seed=13)\n",
    "hawkestf2 = SimuHawkes(baseline=[λ01], kernels=[[ektf1]], end_time=end_time_2, verbose=False, seed=13)\n",
    "hawkestf3 = SimuHawkes(baseline=[λ01], kernels=[[ektf1]], end_time=end_time_3, verbose=False, seed=13)"
   ]
  },
  {
   "cell_type": "code",
   "execution_count": 52,
   "metadata": {},
   "outputs": [],
   "source": [
    "multitf1 = SimuHawkesMulti(hawkestf1, n_simulations=n_paths)\n",
    "multitf2 = SimuHawkesMulti(hawkestf2, n_simulations=n_paths)\n",
    "multitf3 = SimuHawkesMulti(hawkestf3, n_simulations=n_paths)"
   ]
  },
  {
   "cell_type": "code",
   "execution_count": 53,
   "metadata": {},
   "outputs": [],
   "source": [
    "multitf1.simulate()\n",
    "multitf2.simulate()\n",
    "multitf3.simulate()"
   ]
  },
  {
   "cell_type": "code",
   "execution_count": 54,
   "metadata": {},
   "outputs": [],
   "source": [
    "multitf1_sizes = pd.Series([len(mt[0]) for mt in multitf1.timestamps])\n",
    "multitf2_sizes = pd.Series([len(mt[0]) for mt in multitf2.timestamps])\n",
    "multitf3_sizes = pd.Series([len(mt[0]) for mt in multitf3.timestamps])"
   ]
  },
  {
   "cell_type": "code",
   "execution_count": 36,
   "metadata": {},
   "outputs": [],
   "source": [
    "hawkesprm1 = SimuHawkes(baseline=[λ01], kernels=[[ekprm1]], end_time=end_time_1, verbose=False, seed=13)\n",
    "hawkesprm2 = SimuHawkes(baseline=[λ01], kernels=[[ekprm1]], end_time=end_time_2, verbose=False, seed=13)\n",
    "hawkesprm3 = SimuHawkes(baseline=[λ01], kernels=[[ekprm1]], end_time=end_time_3, verbose=False, seed=13)"
   ]
  },
  {
   "cell_type": "code",
   "execution_count": 55,
   "metadata": {},
   "outputs": [],
   "source": [
    "multiprm1 = SimuHawkesMulti(hawkesprm1, n_simulations=n_paths)\n",
    "multiprm2 = SimuHawkesMulti(hawkesprm2, n_simulations=n_paths)\n",
    "multiprm3 = SimuHawkesMulti(hawkesprm3, n_simulations=n_paths)"
   ]
  },
  {
   "cell_type": "code",
   "execution_count": 56,
   "metadata": {},
   "outputs": [],
   "source": [
    "multiprm1.simulate()\n",
    "multiprm2.simulate()\n",
    "multiprm3.simulate()"
   ]
  },
  {
   "cell_type": "code",
   "execution_count": 57,
   "metadata": {},
   "outputs": [],
   "source": [
    "multiprm1_sizes = pd.Series([len(mt[0]) for mt in multiprm1.timestamps])\n",
    "multiprm2_sizes = pd.Series([len(mt[0]) for mt in multiprm2.timestamps])\n",
    "multiprm3_sizes = pd.Series([len(mt[0]) for mt in multiprm3.timestamps])"
   ]
  },
  {
   "cell_type": "code",
   "execution_count": 40,
   "metadata": {},
   "outputs": [
    {
     "data": {
      "text/plain": [
       "[479.9999999999998, 4799.999999999998, 47999.99999999998]"
      ]
     },
     "execution_count": 40,
     "metadata": {},
     "output_type": "execute_result"
    }
   ],
   "source": [
    "[ev_size(λ01, α1, β1, end_time_1), ev_size(λ01, α1, β1, end_time_2), ev_size(λ01, α1, β1, end_time_3)]"
   ]
  },
  {
   "cell_type": "code",
   "execution_count": 58,
   "metadata": {},
   "outputs": [
    {
     "data": {
      "text/plain": [
       "count    1000.000000\n",
       "mean      460.667000\n",
       "std        86.701761\n",
       "min       238.000000\n",
       "25%       399.000000\n",
       "50%       454.000000\n",
       "75%       519.000000\n",
       "max       973.000000\n",
       "dtype: float64"
      ]
     },
     "execution_count": 58,
     "metadata": {},
     "output_type": "execute_result"
    }
   ],
   "source": [
    "multitf1_sizes.describe()"
   ]
  },
  {
   "cell_type": "code",
   "execution_count": 59,
   "metadata": {},
   "outputs": [
    {
     "data": {
      "text/plain": [
       "count    1000.000000\n",
       "mean      460.385000\n",
       "std        86.597482\n",
       "min       238.000000\n",
       "25%       398.750000\n",
       "50%       454.000000\n",
       "75%       519.000000\n",
       "max       973.000000\n",
       "dtype: float64"
      ]
     },
     "execution_count": 59,
     "metadata": {},
     "output_type": "execute_result"
    }
   ],
   "source": [
    "multiprm1_sizes.describe()"
   ]
  },
  {
   "cell_type": "code",
   "execution_count": 60,
   "metadata": {},
   "outputs": [
    {
     "data": {
      "text/plain": [
       "count    1000.000000\n",
       "mean     4790.098000\n",
       "std       276.805599\n",
       "min      3938.000000\n",
       "25%      4607.750000\n",
       "50%      4782.500000\n",
       "75%      4976.250000\n",
       "max      5780.000000\n",
       "dtype: float64"
      ]
     },
     "execution_count": 60,
     "metadata": {},
     "output_type": "execute_result"
    }
   ],
   "source": [
    "multitf2_sizes.describe()"
   ]
  },
  {
   "cell_type": "code",
   "execution_count": 61,
   "metadata": {},
   "outputs": [
    {
     "data": {
      "text/plain": [
       "count    1000.000000\n",
       "mean     4787.267000\n",
       "std       276.410562\n",
       "min      3938.000000\n",
       "25%      4606.750000\n",
       "50%      4780.000000\n",
       "75%      4974.250000\n",
       "max      5776.000000\n",
       "dtype: float64"
      ]
     },
     "execution_count": 61,
     "metadata": {},
     "output_type": "execute_result"
    }
   ],
   "source": [
    "multiprm2_sizes.describe()"
   ]
  },
  {
   "cell_type": "code",
   "execution_count": 62,
   "metadata": {},
   "outputs": [
    {
     "data": {
      "text/plain": [
       "count     1000.000000\n",
       "mean     48010.144000\n",
       "std        885.026341\n",
       "min      45222.000000\n",
       "25%      47395.500000\n",
       "50%      48015.500000\n",
       "75%      48595.750000\n",
       "max      50570.000000\n",
       "dtype: float64"
      ]
     },
     "execution_count": 62,
     "metadata": {},
     "output_type": "execute_result"
    }
   ],
   "source": [
    "multitf3_sizes.describe()"
   ]
  },
  {
   "cell_type": "code",
   "execution_count": 63,
   "metadata": {},
   "outputs": [
    {
     "data": {
      "text/plain": [
       "count     1000.000000\n",
       "mean     47981.100000\n",
       "std        884.444302\n",
       "min      45169.000000\n",
       "25%      47368.750000\n",
       "50%      47988.000000\n",
       "75%      48565.000000\n",
       "max      50539.000000\n",
       "dtype: float64"
      ]
     },
     "execution_count": 63,
     "metadata": {},
     "output_type": "execute_result"
    }
   ],
   "source": [
    "multiprm3_sizes.describe()"
   ]
  },
  {
   "cell_type": "code",
   "execution_count": null,
   "metadata": {},
   "outputs": [],
   "source": [
    "def_bounds = [(0.01, 2.0), (0.01, 100.), (0.01, 200.)]"
   ]
  },
  {
   "cell_type": "code",
   "execution_count": null,
   "metadata": {},
   "outputs": [],
   "source": [
    "def_constraint = {'type': 'ineq', 'fun': lambda x:  x[2] - x[1]}"
   ]
  },
  {
   "cell_type": "code",
   "execution_count": null,
   "metadata": {},
   "outputs": [],
   "source": [
    "def_x0 = np.array([1., 0.3, 0.5])"
   ]
  },
  {
   "cell_type": "code",
   "execution_count": null,
   "metadata": {},
   "outputs": [],
   "source": [
    "%%time\n",
    "\n",
    "np.mean(hl.findθ(multiprm1.timestamps,\n",
    "                 bounds=def_bounds, constraints=def_constraint,\n",
    "                 x0=def_x0), axis=0)"
   ]
  },
  {
   "cell_type": "code",
   "execution_count": null,
   "metadata": {},
   "outputs": [],
   "source": [
    "%%time\n",
    "\n",
    "np.mean(hl.findθlat(multiprm1.timestamps,\n",
    "                 bounds=def_bounds, constraints=def_constraint,\n",
    "                 x0=def_x0, τ=0), axis=0)"
   ]
  },
  {
   "cell_type": "code",
   "execution_count": null,
   "metadata": {},
   "outputs": [],
   "source": [
    "%%time\n",
    "\n",
    "np.mean(hl.findθ(multitf1.timestamps,\n",
    "                 bounds=def_bounds, constraints=def_constraint,\n",
    "                 x0=def_x0), axis=0)"
   ]
  },
  {
   "cell_type": "code",
   "execution_count": null,
   "metadata": {},
   "outputs": [],
   "source": [
    "%%time\n",
    "\n",
    "np.mean(hl.findθlat(multitf1.timestamps,\n",
    "                 bounds=def_bounds, constraints=def_constraint,\n",
    "                 x0=def_x0, τ=0), axis=0)"
   ]
  },
  {
   "cell_type": "code",
   "execution_count": null,
   "metadata": {},
   "outputs": [],
   "source": [
    "%%time\n",
    "\n",
    "np.mean(hl.findθ(multiprm2.timestamps,\n",
    "                 bounds=def_bounds, constraints=def_constraint,\n",
    "                 x0=def_x0), axis=0)"
   ]
  },
  {
   "cell_type": "code",
   "execution_count": null,
   "metadata": {},
   "outputs": [],
   "source": [
    "%%time\n",
    "\n",
    "np.mean(hl.findθlat(multiprm2.timestamps,\n",
    "                 bounds=def_bounds, constraints=def_constraint,\n",
    "                 x0=def_x0, τ=0), axis=0)"
   ]
  },
  {
   "cell_type": "code",
   "execution_count": null,
   "metadata": {},
   "outputs": [],
   "source": [
    "%%time\n",
    "\n",
    "np.mean(hl.findθ(multitf2.timestamps,\n",
    "                 bounds=def_bounds, constraints=def_constraint,\n",
    "                 x0=def_x0), axis=0)"
   ]
  },
  {
   "cell_type": "code",
   "execution_count": null,
   "metadata": {},
   "outputs": [],
   "source": [
    "%%time\n",
    "\n",
    "np.mean(hl.findθlat(multitf2.timestamps,\n",
    "                 bounds=def_bounds, constraints=def_constraint,\n",
    "                 x0=def_x0, τ=0), axis=0)"
   ]
  },
  {
   "cell_type": "code",
   "execution_count": null,
   "metadata": {},
   "outputs": [],
   "source": [
    "%%time\n",
    "\n",
    "np.mean(hl.findθ(multiprm3.timestamps,\n",
    "                 bounds=def_bounds, constraints=def_constraint,\n",
    "                 x0=def_x0), axis=0)"
   ]
  },
  {
   "cell_type": "code",
   "execution_count": null,
   "metadata": {},
   "outputs": [],
   "source": [
    "%%time\n",
    "\n",
    "np.mean(hl.findθlat(multiprm3.timestamps,\n",
    "                 bounds=def_bounds, constraints=def_constraint,\n",
    "                 x0=def_x0, τ=0), axis=0)"
   ]
  },
  {
   "cell_type": "raw",
   "metadata": {},
   "source": [
    "λ01 = 1.2, α1 = 0.6, β1 = 0.8"
   ]
  },
  {
   "cell_type": "code",
   "execution_count": null,
   "metadata": {},
   "outputs": [],
   "source": [
    "%%time\n",
    "\n",
    "np.mean(hl.findθ(multitf3.timestamps,\n",
    "                 bounds=def_bounds, constraints=def_constraint,\n",
    "                 x0=def_x0), axis=0)"
   ]
  },
  {
   "cell_type": "code",
   "execution_count": null,
   "metadata": {},
   "outputs": [],
   "source": [
    "%%time\n",
    "\n",
    "np.mean(hl.findθlat(multitf3.timestamps,\n",
    "                 bounds=def_bounds, constraints=def_constraint,\n",
    "                 x0=def_x0, τ=0), axis=0)"
   ]
  },
  {
   "cell_type": "markdown",
   "metadata": {},
   "source": [
    "## Simple example of exponential Kernel with latency"
   ]
  },
  {
   "cell_type": "markdown",
   "metadata": {},
   "source": [
    "### Latency > 0"
   ]
  },
  {
   "cell_type": "code",
   "execution_count": 18,
   "metadata": {},
   "outputs": [],
   "source": [
    "sup1 = 10\n",
    "lat1 = 2"
   ]
  },
  {
   "cell_type": "code",
   "execution_count": 19,
   "metadata": {},
   "outputs": [],
   "source": [
    "ekc3 = hl.time_funclat(ek1, sup1, lat1)"
   ]
  },
  {
   "cell_type": "code",
   "execution_count": 20,
   "metadata": {},
   "outputs": [],
   "source": [
    "ektf3 = HawkesKernelTimeFunc(ekc3)"
   ]
  },
  {
   "cell_type": "code",
   "execution_count": 21,
   "metadata": {},
   "outputs": [
    {
     "name": "stderr",
     "output_type": "stream",
     "text": [
      "/Users/marcoscscarreira/opt/miniconda3/envs/mcsc/lib/python3.8/site-packages/tick/plot/plot_timefunction.py:113: UserWarning: Matplotlib is currently using agg, which is a non-GUI backend, so cannot show the figure.\n",
      "  plt.show()\n"
     ]
    },
    {
     "data": {
      "image/png": "[encoded data removed]",
      "text/plain": [
       "<Figure size 288x288 with 1 Axes>"
      ]
     },
     "execution_count": 21,
     "metadata": {},
     "output_type": "execute_result"
    }
   ],
   "source": [
    "plot_timefunction(ekc3)"
   ]
  },
  {
   "cell_type": "code",
   "execution_count": 22,
   "metadata": {},
   "outputs": [],
   "source": [
    "hawkestf3_1 = SimuHawkes(baseline=[λ01], kernels=[[ektf3]], end_time=end_time_1, verbose=False, seed=13)\n",
    "hawkestf3_2 = SimuHawkes(baseline=[λ01], kernels=[[ektf3]], end_time=end_time_2, verbose=False, seed=13)\n",
    "hawkestf3_3 = SimuHawkes(baseline=[λ01], kernels=[[ektf3]], end_time=end_time_3, verbose=False, seed=13)"
   ]
  },
  {
   "cell_type": "code",
   "execution_count": 64,
   "metadata": {},
   "outputs": [],
   "source": [
    "multitf3_1 = SimuHawkesMulti(hawkestf3_1, n_simulations=n_paths)\n",
    "multitf3_2 = SimuHawkesMulti(hawkestf3_2, n_simulations=n_paths)\n",
    "multitf3_3 = SimuHawkesMulti(hawkestf3_3, n_simulations=n_paths)"
   ]
  },
  {
   "cell_type": "code",
   "execution_count": 65,
   "metadata": {},
   "outputs": [],
   "source": [
    "multitf3_1.simulate()\n",
    "multitf3_2.simulate()\n",
    "multitf3_3.simulate()"
   ]
  },
  {
   "cell_type": "code",
   "execution_count": 66,
   "metadata": {},
   "outputs": [],
   "source": [
    "multitf3_1_sizes = pd.Series([len(mt[0]) for mt in multitf3_1.timestamps])\n",
    "multitf3_2_sizes = pd.Series([len(mt[0]) for mt in multitf3_2.timestamps])\n",
    "multitf3_3_sizes = pd.Series([len(mt[0]) for mt in multitf3_3.timestamps])"
   ]
  },
  {
   "cell_type": "code",
   "execution_count": 67,
   "metadata": {},
   "outputs": [
    {
     "data": {
      "text/plain": [
       "count    1000.000000\n",
       "mean      442.269000\n",
       "std        78.603468\n",
       "min       262.000000\n",
       "25%       388.000000\n",
       "50%       436.000000\n",
       "75%       492.000000\n",
       "max       729.000000\n",
       "dtype: float64"
      ]
     },
     "execution_count": 67,
     "metadata": {},
     "output_type": "execute_result"
    }
   ],
   "source": [
    "multitf3_1_sizes.describe()"
   ]
  },
  {
   "cell_type": "code",
   "execution_count": 68,
   "metadata": {},
   "outputs": [
    {
     "data": {
      "text/plain": [
       "count    1000.000000\n",
       "mean     4872.457000\n",
       "std       275.596694\n",
       "min      4059.000000\n",
       "25%      4689.750000\n",
       "50%      4871.000000\n",
       "75%      5060.250000\n",
       "max      5722.000000\n",
       "dtype: float64"
      ]
     },
     "execution_count": 68,
     "metadata": {},
     "output_type": "execute_result"
    }
   ],
   "source": [
    "multitf3_2_sizes.describe()"
   ]
  },
  {
   "cell_type": "code",
   "execution_count": 69,
   "metadata": {},
   "outputs": [
    {
     "data": {
      "text/plain": [
       "count     1000.000000\n",
       "mean     49163.576000\n",
       "std        938.094275\n",
       "min      46536.000000\n",
       "25%      48531.250000\n",
       "50%      49177.500000\n",
       "75%      49771.250000\n",
       "max      52156.000000\n",
       "dtype: float64"
      ]
     },
     "execution_count": 69,
     "metadata": {},
     "output_type": "execute_result"
    }
   ],
   "source": [
    "multitf3_3_sizes.describe()"
   ]
  },
  {
   "cell_type": "code",
   "execution_count": 51,
   "metadata": {},
   "outputs": [
    {
     "name": "stdout",
     "output_type": "stream",
     "text": [
      "CPU times: user 1.75 s, sys: 20 ms, total: 1.77 s\n",
      "Wall time: 1.76 s\n"
     ]
    },
    {
     "data": {
      "text/plain": [
       "array([1.41312185, 0.59432338, 0.81423172])"
      ]
     },
     "execution_count": 51,
     "metadata": {},
     "output_type": "execute_result"
    }
   ],
   "source": [
    "%%time\n",
    "\n",
    "np.mean(hl.findθlat(multitf3_1.timestamps,\n",
    "                 bounds=def_bounds, constraints=def_constraint,\n",
    "                 x0=def_x0, τ=lat1), axis=0)"
   ]
  },
  {
   "cell_type": "code",
   "execution_count": 52,
   "metadata": {},
   "outputs": [
    {
     "name": "stdout",
     "output_type": "stream",
     "text": [
      "CPU times: user 15.5 s, sys: 70.9 ms, total: 15.6 s\n",
      "Wall time: 15.6 s\n"
     ]
    },
    {
     "data": {
      "text/plain": [
       "array([1.26282245, 0.61530363, 0.80368218])"
      ]
     },
     "execution_count": 52,
     "metadata": {},
     "output_type": "execute_result"
    }
   ],
   "source": [
    "%%time\n",
    "\n",
    "np.mean(hl.findθlat(multitf3_2.timestamps,\n",
    "                 bounds=def_bounds, constraints=def_constraint,\n",
    "                 x0=def_x0, τ=lat1), axis=0)"
   ]
  },
  {
   "cell_type": "code",
   "execution_count": 53,
   "metadata": {},
   "outputs": [
    {
     "name": "stdout",
     "output_type": "stream",
     "text": [
      "CPU times: user 3min 42s, sys: 2.04 s, total: 3min 44s\n",
      "Wall time: 3min 43s\n"
     ]
    },
    {
     "data": {
      "text/plain": [
       "array([1.2093905 , 0.61256644, 0.78899373])"
      ]
     },
     "execution_count": 53,
     "metadata": {},
     "output_type": "execute_result"
    }
   ],
   "source": [
    "%%time\n",
    "\n",
    "np.mean(hl.findθlat(multitf3_3.timestamps,\n",
    "                 bounds=def_bounds, constraints=def_constraint,\n",
    "                 x0=def_x0, τ=lat1), axis=0)"
   ]
  },
  {
   "cell_type": "code",
   "execution_count": 28,
   "metadata": {},
   "outputs": [
    {
     "name": "stdout",
     "output_type": "stream",
     "text": [
      "CPU times: user 10.5 ms, sys: 2.86 ms, total: 13.3 ms\n",
      "Wall time: 10.8 ms\n"
     ]
    }
   ],
   "source": [
    "%%time\n",
    "\n",
    "a = hl.τtsi(multitf3_1.timestamps[0][0], 2)"
   ]
  },
  {
   "cell_type": "code",
   "execution_count": 29,
   "metadata": {},
   "outputs": [
    {
     "name": "stdout",
     "output_type": "stream",
     "text": [
      "CPU times: user 101 ms, sys: 12.4 ms, total: 114 ms\n",
      "Wall time: 103 ms\n"
     ]
    }
   ],
   "source": [
    "%%time\n",
    "\n",
    "a = hl.τtsi(multitf3_2.timestamps[0][0], 2)"
   ]
  },
  {
   "cell_type": "code",
   "execution_count": 30,
   "metadata": {},
   "outputs": [
    {
     "name": "stdout",
     "output_type": "stream",
     "text": [
      "CPU times: user 1.28 s, sys: 92.8 ms, total: 1.38 s\n",
      "Wall time: 1.31 s\n"
     ]
    }
   ],
   "source": [
    "%%time\n",
    "\n",
    "a = hl.τtsi(multitf3_3.timestamps[0][0], 2)"
   ]
  },
  {
   "cell_type": "code",
   "execution_count": null,
   "metadata": {},
   "outputs": [],
   "source": []
  }
 ],
 "metadata": {
  "jupytext": {
   "encoding": "# -*- coding: utf-8 -*-",
   "formats": "ipynb,py:percent"
  },
  "kernelspec": {
   "display_name": "Python 3",
   "language": "python",
   "name": "python3"
  },
  "language_info": {
   "codemirror_mode": {
    "name": "ipython",
    "version": 3
   },
   "file_extension": ".py",
   "mimetype": "text/x-python",
   "name": "python",
   "nbconvert_exporter": "python",
   "pygments_lexer": "ipython3",
   "version": "3.8.6"
  }
 },
 "nbformat": 4,
 "nbformat_minor": 4
}
