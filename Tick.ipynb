{
 "cells": [
  {
   "cell_type": "markdown",
   "metadata": {},
   "source": [
    "# Tick library - guide and testing"
   ]
  },
  {
   "cell_type": "markdown",
   "metadata": {},
   "source": [
    "## Python Imports"
   ]
  },
  {
   "cell_type": "code",
   "execution_count": 33,
   "metadata": {
    "title": "Python imports"
   },
   "outputs": [],
   "source": [
    "import numpy as np\n",
    "import pandas as pd\n",
    "import matplotlib.pyplot as plt\n",
    "import seaborn as sns\n",
    "import xlwings as xw\n",
    "import itertools"
   ]
  },
  {
   "cell_type": "markdown",
   "metadata": {},
   "source": [
    "## Tick Imports"
   ]
  },
  {
   "cell_type": "markdown",
   "metadata": {},
   "source": [
    "### Simulation"
   ]
  },
  {
   "cell_type": "code",
   "execution_count": 34,
   "metadata": {
    "title": "Import Simulation"
   },
   "outputs": [],
   "source": [
    "from tick.hawkes import SimuHawkes, SimuHawkesMulti"
   ]
  },
  {
   "cell_type": "markdown",
   "metadata": {},
   "source": [
    "#### Non-parametric"
   ]
  },
  {
   "cell_type": "code",
   "execution_count": 35,
   "metadata": {
    "title": "Import Time Function"
   },
   "outputs": [],
   "source": [
    "from tick.base import TimeFunction\n",
    "from tick.hawkes import HawkesKernelTimeFunc"
   ]
  },
  {
   "cell_type": "markdown",
   "metadata": {},
   "source": [
    "#### Parametric"
   ]
  },
  {
   "cell_type": "code",
   "execution_count": 36,
   "metadata": {
    "title": "Import HawkesKernelSumExp"
   },
   "outputs": [],
   "source": [
    "from tick.hawkes import HawkesKernelSumExp"
   ]
  },
  {
   "cell_type": "markdown",
   "metadata": {},
   "source": [
    "### Learners"
   ]
  },
  {
   "cell_type": "markdown",
   "metadata": {},
   "source": [
    "#### Non-parametric"
   ]
  },
  {
   "cell_type": "code",
   "execution_count": 37,
   "metadata": {
    "title": "Import Non-parametric Learners"
   },
   "outputs": [],
   "source": [
    "from tick.hawkes import HawkesEM, HawkesBasisKernels"
   ]
  },
  {
   "cell_type": "markdown",
   "metadata": {},
   "source": [
    "#### Parametric"
   ]
  },
  {
   "cell_type": "code",
   "execution_count": 38,
   "metadata": {
    "title": "Import Parametric Learners"
   },
   "outputs": [],
   "source": [
    "from tick.hawkes import HawkesSumExpKern, HawkesSumGaussians"
   ]
  },
  {
   "cell_type": "markdown",
   "metadata": {},
   "source": [
    "### Plotting kernels"
   ]
  },
  {
   "cell_type": "code",
   "execution_count": 39,
   "metadata": {
    "title": "Import Plots"
   },
   "outputs": [],
   "source": [
    "from tick.plot import plot_timefunction\n",
    "from tick.plot import plot_point_process\n",
    "from tick.plot import plot_hawkes_kernel_norms, plot_hawkes_kernels\n",
    "from tick.plot import plot_basis_kernels"
   ]
  },
  {
   "cell_type": "markdown",
   "metadata": {},
   "source": [
    "## Defining Time Functions"
   ]
  },
  {
   "cell_type": "code",
   "execution_count": 40,
   "metadata": {
    "title": "Define Support"
   },
   "outputs": [],
   "source": [
    "support = 2"
   ]
  },
  {
   "cell_type": "markdown",
   "metadata": {},
   "source": [
    "#### Using a function"
   ]
  },
  {
   "cell_type": "code",
   "execution_count": 41,
   "metadata": {
    "title": "Function g1"
   },
   "outputs": [],
   "source": [
    "def g1(t):\n",
    "    return 0.7 * 0.5 * 10 * np.exp(-0.5 * 10 * t)"
   ]
  },
  {
   "cell_type": "code",
   "execution_count": 42,
   "metadata": {
    "title": "Function g2 (latency)"
   },
   "outputs": [],
   "source": [
    "def g2(t):\n",
    "    return 0.7 * 0.5 * 10 * np.exp(-0.5 * 10 * (t - 1))\\\n",
    "        * np.heaviside(t -1, 1)"
   ]
  },
  {
   "cell_type": "code",
   "execution_count": 43,
   "metadata": {
    "title": "Define xgrid"
   },
   "outputs": [],
   "source": [
    "xgrid = np.linspace(0, support, 20+1)"
   ]
  },
  {
   "cell_type": "code",
   "execution_count": 44,
   "metadata": {
    "title": "Define tf1"
   },
   "outputs": [],
   "source": [
    "tf1 = TimeFunction((xgrid, g1(xgrid)), inter_mode=TimeFunction.InterConstRight)"
   ]
  },
  {
   "cell_type": "code",
   "execution_count": 45,
   "metadata": {
    "title": "Define tf2"
   },
   "outputs": [],
   "source": [
    "tf2 = TimeFunction((xgrid, g2(xgrid)), inter_mode=TimeFunction.InterConstRight)"
   ]
  },
  {
   "cell_type": "code",
   "execution_count": 46,
   "metadata": {
    "title": "Plot tf1"
   },
   "outputs": [
    {
     "name": "stderr",
     "output_type": "stream",
     "text": [
      "/Users/marcoscscarreira/Anaconda/anaconda3/envs/mcsc/lib/python3.7/site-packages/tick/plot/plot_timefunction.py:113: UserWarning: Matplotlib is currently using agg, which is a non-GUI backend, so cannot show the figure.\n",
      "  plt.show()\n"
     ]
    },
    {
     "data": {
      "image/png": "[encoded data removed]",
      "text/plain": [
       "<Figure size 288x288 with 1 Axes>"
      ]
     },
     "execution_count": 46,
     "metadata": {},
     "output_type": "execute_result"
    }
   ],
   "source": [
    "plot_timefunction(tf1)"
   ]
  },
  {
   "cell_type": "code",
   "execution_count": 47,
   "metadata": {
    "title": "Plot tf2"
   },
   "outputs": [
    {
     "name": "stderr",
     "output_type": "stream",
     "text": [
      "/Users/marcoscscarreira/Anaconda/anaconda3/envs/mcsc/lib/python3.7/site-packages/tick/plot/plot_timefunction.py:113: UserWarning: Matplotlib is currently using agg, which is a non-GUI backend, so cannot show the figure.\n",
      "  plt.show()\n"
     ]
    },
    {
     "data": {
      "image/png": "[encoded data removed]",
      "text/plain": [
       "<Figure size 288x288 with 1 Axes>"
      ]
     },
     "execution_count": 47,
     "metadata": {},
     "output_type": "execute_result"
    }
   ],
   "source": [
    "plot_timefunction(tf2)"
   ]
  },
  {
   "cell_type": "markdown",
   "metadata": {},
   "source": [
    "## Defining Non-parametric Kernels"
   ]
  },
  {
   "cell_type": "markdown",
   "metadata": {},
   "source": [
    "## Defining Parametric Kernels"
   ]
  },
  {
   "cell_type": "markdown",
   "metadata": {},
   "source": [
    "## Simulations"
   ]
  },
  {
   "cell_type": "markdown",
   "metadata": {},
   "source": [
    "## Learning"
   ]
  },
  {
   "cell_type": "code",
   "execution_count": null,
   "metadata": {},
   "outputs": [],
   "source": []
  }
 ],
 "metadata": {
  "jupytext": {
   "formats": "ipynb,py:percent"
  },
  "kernelspec": {
   "display_name": "Python 3",
   "language": "python",
   "name": "python3"
  },
  "language_info": {
   "codemirror_mode": {
    "name": "ipython",
    "version": 3
   },
   "file_extension": ".py",
   "mimetype": "text/x-python",
   "name": "python",
   "nbconvert_exporter": "python",
   "pygments_lexer": "ipython3",
   "version": "3.7.7"
  }
 },
 "nbformat": 4,
 "nbformat_minor": 4
}
