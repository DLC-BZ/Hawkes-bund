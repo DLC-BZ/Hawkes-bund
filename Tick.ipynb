{
 "cells": [
  {
   "cell_type": "markdown",
   "metadata": {},
   "source": [
    "# Tick library - guide and testing"
   ]
  },
  {
   "cell_type": "markdown",
   "metadata": {},
   "source": [
    "## Python Imports"
   ]
  },
  {
   "cell_type": "code",
   "execution_count": 1,
   "metadata": {
    "title": "Python imports"
   },
   "outputs": [],
   "source": [
    "import numpy as np\n",
    "import pandas as pd\n",
    "import matplotlib.pyplot as plt\n",
    "import seaborn as sns\n",
    "import xlwings as xw\n",
    "import itertools"
   ]
  },
  {
   "cell_type": "markdown",
   "metadata": {},
   "source": [
    "## Tick Imports"
   ]
  },
  {
   "cell_type": "markdown",
   "metadata": {},
   "source": [
    "### Simulation"
   ]
  },
  {
   "cell_type": "code",
   "execution_count": 2,
   "metadata": {
    "title": "Import Simulation"
   },
   "outputs": [],
   "source": [
    "from tick.hawkes import SimuHawkes, SimuHawkesMulti"
   ]
  },
  {
   "cell_type": "markdown",
   "metadata": {},
   "source": [
    "#### Non-parametric"
   ]
  },
  {
   "cell_type": "code",
   "execution_count": 3,
   "metadata": {
    "title": "Import Time Function"
   },
   "outputs": [],
   "source": [
    "from tick.base import TimeFunction\n",
    "from tick.hawkes import HawkesKernelTimeFunc"
   ]
  },
  {
   "cell_type": "markdown",
   "metadata": {},
   "source": [
    "#### Parametric"
   ]
  },
  {
   "cell_type": "code",
   "execution_count": 4,
   "metadata": {
    "title": "Import HawkesKernelSumExp"
   },
   "outputs": [],
   "source": [
    "from tick.hawkes import HawkesKernelSumExp"
   ]
  },
  {
   "cell_type": "markdown",
   "metadata": {},
   "source": [
    "### Learners"
   ]
  },
  {
   "cell_type": "markdown",
   "metadata": {},
   "source": [
    "#### Non-parametric"
   ]
  },
  {
   "cell_type": "code",
   "execution_count": 5,
   "metadata": {
    "title": "Import Non-parametric Learners"
   },
   "outputs": [],
   "source": [
    "from tick.hawkes import HawkesEM, HawkesBasisKernels"
   ]
  },
  {
   "cell_type": "markdown",
   "metadata": {},
   "source": [
    "#### Parametric"
   ]
  },
  {
   "cell_type": "code",
   "execution_count": 6,
   "metadata": {
    "title": "Import Parametric Learners"
   },
   "outputs": [],
   "source": [
    "from tick.hawkes import HawkesSumExpKern, HawkesSumGaussians"
   ]
  },
  {
   "cell_type": "markdown",
   "metadata": {},
   "source": [
    "### Plotting kernels"
   ]
  },
  {
   "cell_type": "code",
   "execution_count": 7,
   "metadata": {
    "title": "Import Plots"
   },
   "outputs": [],
   "source": [
    "from tick.plot import plot_timefunction\n",
    "from tick.plot import plot_point_process\n",
    "from tick.plot import plot_hawkes_kernel_norms, plot_hawkes_kernels\n",
    "from tick.plot import plot_basis_kernels"
   ]
  },
  {
   "cell_type": "markdown",
   "metadata": {},
   "source": [
    "## Defining Time Functions"
   ]
  },
  {
   "cell_type": "code",
   "execution_count": 8,
   "metadata": {
    "title": "Define Support"
   },
   "outputs": [],
   "source": [
    "support = 4"
   ]
  },
  {
   "cell_type": "markdown",
   "metadata": {},
   "source": [
    "#### Using a function"
   ]
  },
  {
   "cell_type": "code",
   "execution_count": 9,
   "metadata": {
    "title": "Function g1"
   },
   "outputs": [],
   "source": [
    "def g1(t):\n",
    "    return 0.7 * 0.5 * 10 * np.exp(-0.5 * 10 * t)"
   ]
  },
  {
   "cell_type": "markdown",
   "metadata": {},
   "source": [
    "Introducing a latency with heaviside"
   ]
  },
  {
   "cell_type": "code",
   "execution_count": 18,
   "metadata": {
    "title": "Function g2 (latency)"
   },
   "outputs": [],
   "source": [
    "def g2(t):\n",
    "    return 0.7 * 0.5 * 10 * np.exp(-0.5 * 10 * (t - 1))\\\n",
    "        * np.heaviside(t -1, 1) # To ensure zero before t0=1"
   ]
  },
  {
   "cell_type": "code",
   "execution_count": 11,
   "metadata": {
    "title": "Define xgrid"
   },
   "outputs": [],
   "source": [
    "xgrid = np.linspace(0, support, 40+1)"
   ]
  },
  {
   "cell_type": "code",
   "execution_count": 16,
   "metadata": {
    "title": "Define tf1"
   },
   "outputs": [],
   "source": [
    "tf1 = TimeFunction((xgrid, g1(xgrid)), inter_mode=TimeFunction.InterLinear)"
   ]
  },
  {
   "cell_type": "code",
   "execution_count": 13,
   "metadata": {
    "title": "Define tf2"
   },
   "outputs": [],
   "source": [
    "tf2 = TimeFunction((xgrid, g2(xgrid)), inter_mode=TimeFunction.InterConstRight)"
   ]
  },
  {
   "cell_type": "code",
   "execution_count": 17,
   "metadata": {
    "title": "Plot tf1"
   },
   "outputs": [
    {
     "name": "stderr",
     "output_type": "stream",
     "text": [
      "/Users/marcoscscarreira/Anaconda/anaconda3/envs/mcsc/lib/python3.7/site-packages/tick/plot/plot_timefunction.py:113: UserWarning: Matplotlib is currently using agg, which is a non-GUI backend, so cannot show the figure.\n",
      "  plt.show()\n"
     ]
    },
    {
     "data": {
      "image/png": "[encoded data removed]",
      "text/plain": [
       "<Figure size 288x288 with 1 Axes>"
      ]
     },
     "execution_count": 17,
     "metadata": {},
     "output_type": "execute_result"
    }
   ],
   "source": [
    "plot_timefunction(tf1)"
   ]
  },
  {
   "cell_type": "code",
   "execution_count": 15,
   "metadata": {
    "title": "Plot tf2"
   },
   "outputs": [
    {
     "name": "stderr",
     "output_type": "stream",
     "text": [
      "/Users/marcoscscarreira/Anaconda/anaconda3/envs/mcsc/lib/python3.7/site-packages/tick/plot/plot_timefunction.py:113: UserWarning: Matplotlib is currently using agg, which is a non-GUI backend, so cannot show the figure.\n",
      "  plt.show()\n"
     ]
    },
    {
     "data": {
      "image/png": "[encoded data removed]",
      "text/plain": [
       "<Figure size 288x288 with 1 Axes>"
      ]
     },
     "execution_count": 15,
     "metadata": {},
     "output_type": "execute_result"
    }
   ],
   "source": [
    "plot_timefunction(tf2)"
   ]
  },
  {
   "cell_type": "markdown",
   "metadata": {},
   "source": [
    "### Creating a complete function with latency, linear interpolation and a custom grid"
   ]
  },
  {
   "cell_type": "code",
   "execution_count": 98,
   "metadata": {
    "title": "Define the time_function"
   },
   "outputs": [],
   "source": [
    "def time_func(f, support, t0=0, steps=1000):\n",
    "    t_values = np.linspace(0, support, steps+1)\n",
    "    y_values = f(t_values - t0) * np.heaviside(t_values - t0, 1)\n",
    "    return TimeFunction(values=(t_values, y_values),\n",
    "                        border_type=TimeFunction.Border0,\n",
    "                        inter_mode=TimeFunction.InterLinear)"
   ]
  },
  {
   "cell_type": "code",
   "execution_count": 99,
   "metadata": {
    "title": "Define tf_1"
   },
   "outputs": [],
   "source": [
    "tf_1 = time_func(g1, 4)"
   ]
  },
  {
   "cell_type": "code",
   "execution_count": 100,
   "metadata": {
    "title": "Define tf_2"
   },
   "outputs": [],
   "source": [
    "tf_2 = time_func(g1, 4, 1)"
   ]
  },
  {
   "cell_type": "code",
   "execution_count": 101,
   "metadata": {
    "title": "Check equivalent values"
   },
   "outputs": [
    {
     "data": {
      "text/plain": [
       "[[3.5, 0.023582814496799394], [3.4999999999017244, 0.02358281449679965]]"
      ]
     },
     "execution_count": 101,
     "metadata": {},
     "output_type": "execute_result"
    }
   ],
   "source": [
    "print([[tf_1.value(0), tf_1.value(1)], [tf_2.value(1), tf_2.value(2)]])"
   ]
  },
  {
   "cell_type": "code",
   "execution_count": 102,
   "metadata": {
    "title": "Plot tf_1"
   },
   "outputs": [
    {
     "name": "stderr",
     "output_type": "stream",
     "text": [
      "/Users/marcoscscarreira/Anaconda/anaconda3/envs/mcsc/lib/python3.7/site-packages/tick/plot/plot_timefunction.py:62: RuntimeWarning: More than 20 figures have been opened. Figures created through the pyplot interface (`matplotlib.pyplot.figure`) are retained until explicitly closed and may consume too much memory. (To control this warning, see the rcParam `figure.max_open_warning`).\n",
      "  fig, ax = plt.subplots(1, 1, figsize=(4, 4))\n",
      "/Users/marcoscscarreira/Anaconda/anaconda3/envs/mcsc/lib/python3.7/site-packages/tick/plot/plot_timefunction.py:113: UserWarning: Matplotlib is currently using agg, which is a non-GUI backend, so cannot show the figure.\n",
      "  plt.show()\n"
     ]
    },
    {
     "data": {
      "image/png": "[encoded data removed]",
      "text/plain": [
       "<Figure size 288x288 with 1 Axes>"
      ]
     },
     "execution_count": 102,
     "metadata": {},
     "output_type": "execute_result"
    }
   ],
   "source": [
    "plot_timefunction(tf_1)"
   ]
  },
  {
   "cell_type": "code",
   "execution_count": 103,
   "metadata": {
    "title": "Plot tf_2"
   },
   "outputs": [
    {
     "name": "stderr",
     "output_type": "stream",
     "text": [
      "/Users/marcoscscarreira/Anaconda/anaconda3/envs/mcsc/lib/python3.7/site-packages/tick/plot/plot_timefunction.py:62: RuntimeWarning: More than 20 figures have been opened. Figures created through the pyplot interface (`matplotlib.pyplot.figure`) are retained until explicitly closed and may consume too much memory. (To control this warning, see the rcParam `figure.max_open_warning`).\n",
      "  fig, ax = plt.subplots(1, 1, figsize=(4, 4))\n",
      "/Users/marcoscscarreira/Anaconda/anaconda3/envs/mcsc/lib/python3.7/site-packages/tick/plot/plot_timefunction.py:113: UserWarning: Matplotlib is currently using agg, which is a non-GUI backend, so cannot show the figure.\n",
      "  plt.show()\n"
     ]
    },
    {
     "data": {
      "image/png": "[encoded data removed]",
      "text/plain": [
       "<Figure size 288x288 with 1 Axes>"
      ]
     },
     "execution_count": 103,
     "metadata": {},
     "output_type": "execute_result"
    }
   ],
   "source": [
    "plot_timefunction(tf_2)"
   ]
  },
  {
   "cell_type": "markdown",
   "metadata": {},
   "source": [
    "## Defining Non-parametric Kernels"
   ]
  },
  {
   "cell_type": "code",
   "execution_count": 104,
   "metadata": {
    "title": "Define kernel_1"
   },
   "outputs": [],
   "source": [
    "kernel_1 = HawkesKernelTimeFunc(tf_1)"
   ]
  },
  {
   "cell_type": "code",
   "execution_count": 105,
   "metadata": {
    "title": "Define kernel_1"
   },
   "outputs": [],
   "source": [
    "kernel_2 = HawkesKernelTimeFunc(tf_2)"
   ]
  },
  {
   "cell_type": "markdown",
   "metadata": {},
   "source": [
    "## Defining Parametric Kernels"
   ]
  },
  {
   "cell_type": "code",
   "execution_count": 108,
   "metadata": {
    "title": "Define kernel_sumexp"
   },
   "outputs": [],
   "source": [
    "kernel_sumexp = HawkesKernelSumExp(\n",
    "    intensities=np.array([0.1, 0.2, 0.1]),\n",
    "    decays=np.array([1.0, 3.0, 7.0]))"
   ]
  },
  {
   "cell_type": "markdown",
   "metadata": {},
   "source": [
    "## Simulations"
   ]
  },
  {
   "cell_type": "markdown",
   "metadata": {},
   "source": [
    "### SimuHawkes"
   ]
  },
  {
   "cell_type": "code",
   "execution_count": 117,
   "metadata": {
    "title": "Define simulation for one realization, sumexp kernel"
   },
   "outputs": [],
   "source": [
    "hawkes = SimuHawkes(n_nodes=1, end_time=40, seed=1398)\n",
    "hawkes.set_kernel(0, 0, kernel_sumexp)\n",
    "hawkes.set_baseline(0, 1.)"
   ]
  },
  {
   "cell_type": "code",
   "execution_count": 118,
   "metadata": {
    "title": "Track intensity and simulation"
   },
   "outputs": [
    {
     "name": "stdout",
     "output_type": "stream",
     "text": [
      "----------------------------------------\n",
      "Launching simulation using SimuHawkes...\n",
      "Done simulating using SimuHawkes in 7.31e-03 seconds.\n"
     ]
    }
   ],
   "source": [
    "dt = 0.01\n",
    "hawkes.track_intensity(dt)\n",
    "hawkes.simulate()"
   ]
  },
  {
   "cell_type": "code",
   "execution_count": 121,
   "metadata": {
    "title": "Get attributes of hawkes"
   },
   "outputs": [],
   "source": [
    "timestamps = hawkes.timestamps\n",
    "intensity = hawkes.tracked_intensity\n",
    "intensity_times = hawkes.intensity_tracked_times\n",
    "mean_intensity = hawkes.mean_intensity()"
   ]
  },
  {
   "cell_type": "code",
   "execution_count": 142,
   "metadata": {
    "title": "Plot jumps"
   },
   "outputs": [
    {
     "data": {
      "text/plain": [
       "array([ 0.26171969,  0.33603776,  1.23854597,  3.53157217,  3.56113287,\n",
       "        4.52728089,  7.11222971,  8.21669223,  8.49837817,  8.72304244,\n",
       "        9.21651891, 10.29359705, 11.56516808, 12.59582485, 12.65727743,\n",
       "       12.82719103, 13.62907798, 14.01126138, 14.22095357, 14.23907752,\n",
       "       14.37333816, 14.37887473, 14.58601849, 14.74591295, 15.54999955,\n",
       "       15.71869918, 15.86733908, 15.88223675, 16.95616163, 17.86744421,\n",
       "       20.15053361, 20.22620769, 20.42869206, 20.71021094, 21.29500366,\n",
       "       21.34319965, 21.48044055, 21.83616363, 21.99881327, 22.27057037,\n",
       "       22.63953983, 22.67358773, 22.79011305, 22.87327711, 22.91988265,\n",
       "       23.02978064, 23.0349566 , 23.06489052, 23.17025799, 23.279975  ,\n",
       "       23.8783286 , 23.98788353, 24.10122906, 24.38511864, 24.50183161,\n",
       "       25.22671181, 25.48293599, 26.47707248, 29.94107138, 29.99913716,\n",
       "       30.09483177, 31.11591836, 31.93692565, 32.61826525, 32.68596509,\n",
       "       33.68127487, 33.73140652, 35.90235232, 37.38554437, 38.52608292,\n",
       "       38.63744123, 39.42346965])"
      ]
     },
     "execution_count": 142,
     "metadata": {},
     "output_type": "execute_result"
    }
   ],
   "source": [
    "pd.Series(np.arange(1, len(timestamps[0])+1),\n",
    "          index=timestamps[0]).plot(drawstyle='steps-post')"
   ]
  },
  {
   "cell_type": "code",
   "execution_count": 122,
   "metadata": {
    "title": "Plot point express"
   },
   "outputs": [
    {
     "name": "stderr",
     "output_type": "stream",
     "text": [
      "/Users/marcoscscarreira/Anaconda/anaconda3/envs/mcsc/lib/python3.7/site-packages/tick/plot/plot_point_processes.py:80: RuntimeWarning: More than 20 figures have been opened. Figures created through the pyplot interface (`matplotlib.pyplot.figure`) are retained until explicitly closed and may consume too much memory. (To control this warning, see the rcParam `figure.max_open_warning`).\n",
      "  figsize=(12, 4 * len(plot_nodes)))\n",
      "/Users/marcoscscarreira/Anaconda/anaconda3/envs/mcsc/lib/python3.7/site-packages/tick/plot/plot_point_processes.py:114: UserWarning: Matplotlib is currently using agg, which is a non-GUI backend, so cannot show the figure.\n",
      "  plt.show()\n"
     ]
    },
    {
     "data": {
      "image/png": "[encoded data removed]",
      "text/plain": [
       "<Figure size 864x288 with 1 Axes>"
      ]
     },
     "execution_count": 122,
     "metadata": {},
     "output_type": "execute_result"
    }
   ],
   "source": [
    "plot_point_process(hawkes)"
   ]
  },
  {
   "cell_type": "markdown",
   "metadata": {},
   "source": [
    "### SimuHawkesMulti"
   ]
  },
  {
   "cell_type": "code",
   "execution_count": 130,
   "metadata": {},
   "outputs": [],
   "source": [
    "hawkes_m = SimuHawkes(n_nodes=1, end_time=1000)\n",
    "hawkes_m.set_kernel(0, 0, kernel_sumexp)\n",
    "hawkes_m.set_baseline(0, 1.)"
   ]
  },
  {
   "cell_type": "code",
   "execution_count": 131,
   "metadata": {},
   "outputs": [],
   "source": [
    "multi = SimuHawkesMulti(hawkes_m, n_simulations=10)\n",
    "multi.simulate()"
   ]
  },
  {
   "cell_type": "code",
   "execution_count": 132,
   "metadata": {},
   "outputs": [],
   "source": [
    "multi_timestamps = multi.timestamps\n",
    "multi_mean_intensity = multi.mean_intensity"
   ]
  },
  {
   "cell_type": "markdown",
   "metadata": {},
   "source": [
    "## Learning"
   ]
  },
  {
   "cell_type": "markdown",
   "metadata": {},
   "source": [
    "#### Non-parametric"
   ]
  },
  {
   "cell_type": "markdown",
   "metadata": {},
   "source": [
    "##### HawkesEM"
   ]
  },
  {
   "cell_type": "code",
   "execution_count": null,
   "metadata": {},
   "outputs": [],
   "source": [
    "em = HawkesEM()\n",
    "em.fit(multi_timestamps)"
   ]
  },
  {
   "cell_type": "markdown",
   "metadata": {},
   "source": [
    "##### HawkesBasisKernels"
   ]
  },
  {
   "cell_type": "code",
   "execution_count": null,
   "metadata": {},
   "outputs": [],
   "source": [
    "bk = HawkesBasisKernels()\n",
    "bk.fit(multi_timestamps)"
   ]
  },
  {
   "cell_type": "markdown",
   "metadata": {},
   "source": [
    "#### Parametric"
   ]
  },
  {
   "cell_type": "markdown",
   "metadata": {},
   "source": [
    "##### HawkesSumExpKern"
   ]
  },
  {
   "cell_type": "code",
   "execution_count": null,
   "metadata": {},
   "outputs": [],
   "source": [
    "sek = HawkesSumExpKern()\n",
    "sek.fit(multi_timestamps)"
   ]
  },
  {
   "cell_type": "markdown",
   "metadata": {},
   "source": [
    "##### HawkesSumGaussians"
   ]
  },
  {
   "cell_type": "code",
   "execution_count": null,
   "metadata": {},
   "outputs": [],
   "source": [
    "sg = HawkesSumGaussians()\n",
    "sg.fit(multi_timestamps)"
   ]
  },
  {
   "cell_type": "code",
   "execution_count": null,
   "metadata": {},
   "outputs": [],
   "source": []
  }
 ],
 "metadata": {
  "jupytext": {
   "formats": "ipynb,py:percent"
  },
  "kernelspec": {
   "display_name": "Python 3",
   "language": "python",
   "name": "python3"
  },
  "language_info": {
   "codemirror_mode": {
    "name": "ipython",
    "version": 3
   },
   "file_extension": ".py",
   "mimetype": "text/x-python",
   "name": "python",
   "nbconvert_exporter": "python",
   "pygments_lexer": "ipython3",
   "version": "3.7.7"
  }
 },
 "nbformat": 4,
 "nbformat_minor": 4
}
